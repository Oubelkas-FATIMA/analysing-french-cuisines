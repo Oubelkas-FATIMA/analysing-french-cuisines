{
 "cells": [
  {
   "cell_type": "code",
   "execution_count": 1,
   "id": "8b48e06f",
   "metadata": {},
   "outputs": [],
   "source": [
    "from selenium import webdriver\n",
    "from selenium.webdriver.common.by import By\n",
    "from selenium.webdriver.support.ui import WebDriverWait\n",
    "from selenium.webdriver.support import expected_conditions as EC\n",
    "from bs4 import BeautifulSoup\n",
    "\n",
    "from selenium.webdriver.support import expected_conditions as ec\n",
    "from selenium.webdriver.common.keys import Keys\n",
    "from selenium.webdriver import ActionChains\n",
    "import time\n",
    "\n",
    "# Launch a browser and navigate to the page you want to scrape\n",
    "driver = webdriver.Chrome(executable_path=\"C:/Users/XPRISTO/Downloads/chromedriver_win32/chromedriver\")\n",
    "url = 'https://www.allrecipes.com/recipes/721/world-cuisine/european/french/'\n",
    "driver.get(url)\n",
    "time.sleep(2)\n",
    "\n",
    "# defining the webdriver and config\n",
    "chrome_options = webdriver.ChromeOptions()\n",
    "\n",
    "# !!! blocking browser notifications !!!\n",
    "prefs = {\"profile.default_content_setting_values.notifications\" : 2} \n",
    "chrome_options.add_experimental_option(\"prefs\", prefs)\n",
    "\n",
    "# starting in maximized window\n",
    "chrome_options.add_argument(\"start-maximized\")\n",
    "\n",
    "# dont know what this command does\n",
    "chrome_options.add_argument(\"--disable-default-apps\")\n",
    "\n",
    "driver.maximize_window()\n",
    "time.sleep(2)\n",
    "\n",
    "recipes = []\n",
    "\n",
    "# find all elements with the same class name using find_elements_by_class_name()\n",
    "# elements = driver.find_elements_by_class_name('comp mntl-card-list-items mntl-document-card mntl-card card card--no-image')\n",
    "\n",
    "for i in range(1,13):\n",
    "    recipe = driver.find_element_by_xpath(\"/html[1]/body[1]/main[1]/section[1]/div[3]/div[1]/div[1]/div[1]/a[\"+str(i)+\"]\").get_attribute('href')\n",
    "    recipes.append(recipe)\n"
   ]
  },
  {
   "cell_type": "code",
   "execution_count": 2,
   "id": "13f88cab",
   "metadata": {},
   "outputs": [
    {
     "data": {
      "text/plain": [
       "['https://www.allrecipes.com/recipe/8494742/pate-sucree/',\n",
       " 'https://www.allrecipes.com/recipe/16383/basic-crepes/',\n",
       " 'https://www.allrecipes.com/recipe/13309/rich-and-simple-french-onion-soup/',\n",
       " 'https://www.allrecipes.com/recipe/8495/chicken-cordon-bleu-i/',\n",
       " 'https://www.allrecipes.com/recipe/233295/fondant-potatoes/',\n",
       " 'https://www.allrecipes.com/recipe/20931/french-crepes/',\n",
       " 'https://www.allrecipes.com/recipe/87386/lobster-thermidor/',\n",
       " 'https://www.allrecipes.com/recipe/17345/buche-de-noel/',\n",
       " 'https://www.allrecipes.com/recipe/222387/chef-johns-creme-fraiche/',\n",
       " 'https://www.allrecipes.com/recipe/236780/the-best-lemon-vinaigrette/',\n",
       " 'https://www.allrecipes.com/recipe/223272/herbs-de-provence/',\n",
       " 'https://www.allrecipes.com/recipe/269557/chocolate-yule-log/']"
      ]
     },
     "execution_count": 2,
     "metadata": {},
     "output_type": "execute_result"
    }
   ],
   "source": [
    "recipes"
   ]
  },
  {
   "cell_type": "code",
   "execution_count": 3,
   "id": "d17a526f",
   "metadata": {},
   "outputs": [],
   "source": [
    "another_recipes = []\n",
    "for i in range(1,13):\n",
    "    recip = driver.find_element_by_xpath(\"/html[1]/body[1]/main[1]/section[1]/div[3]/div[1]/div[2]/div[1]/a[\"+str(i)+\"]\").get_attribute('href')\n",
    "    another_recipes.append(recip)"
   ]
  },
  {
   "cell_type": "code",
   "execution_count": 4,
   "id": "9c87b4a2",
   "metadata": {},
   "outputs": [
    {
     "data": {
      "text/plain": [
       "['https://www.allrecipes.com/recipe/76043/pastry-cream/',\n",
       " 'https://www.allrecipes.com/recipe/19037/dessert-crepes/',\n",
       " 'https://www.allrecipes.com/recipe/222006/disneys-ratatouille/',\n",
       " 'https://www.allrecipes.com/recipe/84214/blender-hollandaise-sauce/',\n",
       " 'https://www.allrecipes.com/recipe/19010/eclairs-ii/',\n",
       " 'https://www.allrecipes.com/recipe/223234/macaron-french-macaroon/',\n",
       " 'https://www.allrecipes.com/recipe/17515/quiche-lorraine-i/',\n",
       " 'https://www.allrecipes.com/recipe/19843/lyonnaise-potatoes/',\n",
       " 'https://www.allrecipes.com/recipe/234930/how-to-make-bordelaise-sauce/',\n",
       " 'https://www.allrecipes.com/recipe/91192/french-onion-soup-gratinee/',\n",
       " 'https://www.allrecipes.com/recipe/85107/omelet-in-a-bag/',\n",
       " 'https://www.allrecipes.com/recipe/239230/chef-johns-coq-au-vin/']"
      ]
     },
     "execution_count": 4,
     "metadata": {},
     "output_type": "execute_result"
    }
   ],
   "source": [
    "another_recipes"
   ]
  },
  {
   "cell_type": "code",
   "execution_count": 5,
   "id": "0e4b493d",
   "metadata": {},
   "outputs": [],
   "source": [
    "names = []\n",
    "for recipe in recipes:\n",
    "    driver.get(recipe)\n",
    "    time.sleep(1)\n",
    "    element =  driver.find_element_by_xpath(\"/html[1]/body[1]/main[1]/article[1]/div[2]/h1[1]\").text\n",
    "    names.append(element)\n",
    "\n",
    "\n"
   ]
  },
  {
   "cell_type": "code",
   "execution_count": 6,
   "id": "02db8049",
   "metadata": {},
   "outputs": [
    {
     "data": {
      "text/plain": [
       "['Pâte Sucrée',\n",
       " 'Basic Crêpes',\n",
       " 'Rich and Simple French Onion Soup',\n",
       " 'Chicken Cordon Bleu',\n",
       " 'Fondant Potatoes',\n",
       " 'French Crêpes',\n",
       " 'Lobster Thermidor',\n",
       " 'Buche de Noel',\n",
       " \"Chef John's Crème Fraîche\",\n",
       " 'The Best Lemon Vinaigrette',\n",
       " 'Herbs de Provence',\n",
       " 'Chocolate Yule Log']"
      ]
     },
     "execution_count": 6,
     "metadata": {},
     "output_type": "execute_result"
    }
   ],
   "source": [
    "names"
   ]
  },
  {
   "cell_type": "code",
   "execution_count": 7,
   "id": "3f798845",
   "metadata": {},
   "outputs": [],
   "source": [
    "for recipe in another_recipes:\n",
    "    driver.get(recipe)\n",
    "    time.sleep(1)\n",
    "    element =  driver.find_element_by_xpath(\"/html[1]/body[1]/main[1]/article[1]/div[2]/h1[1]\").text\n",
    "    names.append(element)\n"
   ]
  },
  {
   "cell_type": "code",
   "execution_count": 8,
   "id": "d0b07056",
   "metadata": {},
   "outputs": [
    {
     "data": {
      "text/plain": [
       "['Pâte Sucrée',\n",
       " 'Basic Crêpes',\n",
       " 'Rich and Simple French Onion Soup',\n",
       " 'Chicken Cordon Bleu',\n",
       " 'Fondant Potatoes',\n",
       " 'French Crêpes',\n",
       " 'Lobster Thermidor',\n",
       " 'Buche de Noel',\n",
       " \"Chef John's Crème Fraîche\",\n",
       " 'The Best Lemon Vinaigrette',\n",
       " 'Herbs de Provence',\n",
       " 'Chocolate Yule Log',\n",
       " 'Pastry Cream',\n",
       " 'Dessert Crepes',\n",
       " \"Disney's Ratatouille\",\n",
       " 'Blender Hollandaise Sauce',\n",
       " 'Eclairs',\n",
       " 'Macarons (French Macaroons)',\n",
       " 'Quiche Lorraine',\n",
       " 'Lyonnaise Potatoes',\n",
       " 'How to Make Bordelaise Sauce',\n",
       " 'French Onion Soup Gratinée',\n",
       " 'Omelet in a Bag',\n",
       " \"Chef John's Coq au Vin\"]"
      ]
     },
     "execution_count": 8,
     "metadata": {},
     "output_type": "execute_result"
    }
   ],
   "source": [
    "names"
   ]
  },
  {
   "cell_type": "code",
   "execution_count": 9,
   "id": "df7a0c31",
   "metadata": {},
   "outputs": [],
   "source": [
    "Descriptions = []\n",
    "for recipe in recipes:\n",
    "    driver.get(recipe)\n",
    "    time.sleep(1)\n",
    "    element =  driver.find_element_by_xpath(\"/html[1]/body[1]/main[1]/article[1]/div[2]/p[1]\").text\n",
    "    Descriptions.append(element)"
   ]
  },
  {
   "cell_type": "code",
   "execution_count": 10,
   "id": "3d1a00b8",
   "metadata": {},
   "outputs": [],
   "source": [
    "for recipe in another_recipes:\n",
    "    driver.get(recipe)\n",
    "    time.sleep(1)\n",
    "    element =  driver.find_element_by_xpath(\"/html[1]/body[1]/main[1]/article[1]/div[2]/p[1]\").text\n",
    "    Descriptions.append(element)"
   ]
  },
  {
   "cell_type": "code",
   "execution_count": 11,
   "id": "d6188fe6",
   "metadata": {},
   "outputs": [
    {
     "data": {
      "text/plain": [
       "['Pâte sucrée is a French sweet tart crust that is located somewhere between a shortbread cookie and a sugar cookie with a nice buttery richness.',\n",
       " 'This simple but delicious crêpe recipe can be made in minutes from ingredients that everyone has on hand.',\n",
       " 'We have been trying French onion soup in restaurants for years, and my family and friends agree — none can compare to my recipe for taste and simplicity of preparation.',\n",
       " \"This entree is easy and delicious! It's one of my husband's favorites! Try to use the largest chicken breasts you can find so you'll be able to roll them easier.\",\n",
       " 'My fondant potatoes are oven-braised in a buttery, thyme-flavored sauce. The result of this old-school method? Golden brown potatoes with a crispy crust that remain rich and creamy on the insides. Serve this classic French side dish alongside roast chicken, beef, or fish.',\n",
       " 'French crêpes are good for weekend breakfasts, or even for desserts. Serve rolled up and filled with jam or fruit and whipped cream.',\n",
       " 'This stunning lobster Thermidor is surprisingly simple to make. Lobster shells are stuffed with cooked lobster in a creamy white wine sauce, then topped with Parmesan cheese and broiled until golden.',\n",
       " \"Buche de Noel is the French name for a Christmas cake shaped like a log. This one is a heavenly flourless chocolate cake rolled with chocolate whipped cream and decorated with confectioners' sugar to resemble snow on a yule log. It doesn't just look beautiful — it tastes wonderful, too!\",\n",
       " \"Crème fraîche is very easy to make. Once you taste the magic of this homemade sour cream, you'll have a hard time not repeating this esoteric exercise. Sure it takes a couple of days, but the effort is minimal, and the payoff is marvelous.\",\n",
       " 'This lemon vinaigrette is one of my favorite salad dressings. It works for a simple salad or with crispy Parmesan chicken on a green salad.',\n",
       " \"This herbs de Provence recipe was developed after looking at many different recipes. It's my version of the classic dried herb seasoning that tastes great in salads and on fish, chicken, beef, or pork. The fragrance is amazing!\",\n",
       " \"If you haven't tried this Yule log recipe because you thought it required advanced baking and pastry skill, then get ready to buche up this Noel, since the techniques required are actually quite simple. This classic holiday dessert is a showstopper, but it's often better looking than it is tasting, which is not the case here, thanks to a simple-to-make, rich chocolate sponge cake, and mocha buttercream filling. Garnished here with meringue mushrooms and rosemary.\",\n",
       " 'Fill pastry with cream made with this classic recipe for pastry cream often used in bakeries and restaurants. It can be used to fill cakes, pies, or pastries. To make a lighter filling, fold in plain whipped cream.',\n",
       " 'This crepe recipe is essential for a fancy breakfast or eye-catching dessert. Sprinkle warm crepes with sugar and lemon, or serve with whipped cream, ice cream, and fruit.',\n",
       " 'This Disney ratatouille recipe makes the beautiful dish served up in the movie of the same name. Long and narrow vegetables work best. Serve with crusty bread or over a bed of brown rice, couscous, or pasta.',\n",
       " 'This blender Hollandaise has all the same ingredients and consistency as the classic sauce, but no double boiler and no chance of the sauce separating. I love the lemony flavor on freshly steamed asparagus!',\n",
       " 'These eclairs are always a hit! My family loves these eclairs and requests them all the time. I usually make them as dessert whenever we have company coming.',\n",
       " \"Macarons are made with finely ground almonds, confectioners' sugar, and egg whites. They are the most delicious soft cookies with crispy edges. I finally perfected the technique and wanted to share it. Pipe your choice of filling or frosting on a cookie and sandwich another cookie on top.\",\n",
       " 'This quiche lorraine is a timeless classic. Bacon, Swiss cheese, and onions mingle in perfect harmony amidst eggs and cream. Perfect for breakfast, brunch, lunch, dinner, or just an indulgent snack!',\n",
       " 'These Lyonnaise potatoes are a classic dish made with sliced potatoes and onions.',\n",
       " \"This bordelaise sauce is a simple version of the classic French red wine and shallot reduction sauce. It's fantastic on a steak, roast beef, or whatever!\",\n",
       " 'This is the best French onion soup recipe I know. I have been making it for 30 years and it never fails to please. It makes an exquisite presentation too!',\n",
       " 'This easy omelet-in-a-bag recipe is great for when there are picky eaters in the crowd who want different egg additions. You can make as many as needed or just one if you like. Got this from an internet friend. Good served with fruit and coffee cake.',\n",
       " \"I make coq au vin with bone-in, skin-on chicken thighs instead of an old rooster. Like all braised dishes, tougher cuts with lots of connective tissue work best, and on a chicken that would be the thigh/leg section. Of course, someone will ask if they can use chicken breasts; please don't. They just will not add that sticky goodness to the braising liquid that the thighs will.\"]"
      ]
     },
     "execution_count": 11,
     "metadata": {},
     "output_type": "execute_result"
    }
   ],
   "source": [
    "Descriptions"
   ]
  },
  {
   "cell_type": "code",
   "execution_count": 12,
   "id": "b10464f3",
   "metadata": {},
   "outputs": [],
   "source": [
    "Calories = []\n",
    "for recipe in recipes:\n",
    "    career = \"\"\n",
    "    driver.get(recipe)\n",
    "    time.sleep(1)\n",
    "    try:\n",
    "        elem = driver.find_element_by_xpath(\"/html[1]/body[1]/main[1]/article[1]/div[3]/div[3]/div[7]/div[1]/table[1]/tbody[1]/tr[1]/td[1]\").text\n",
    "    except Exception as e:\n",
    "        elem = driver.find_element_by_xpath(\"/html[1]/body[1]/main[1]/article[1]/div[3]/div[2]/div[7]/div[1]/table[1]/tbody[1]/tr[1]/td[1]\").text\n",
    "    Calories.append(elem)"
   ]
  },
  {
   "cell_type": "code",
   "execution_count": 13,
   "id": "1a670b0b",
   "metadata": {},
   "outputs": [],
   "source": [
    "for recipe in another_recipes:\n",
    "    career = \"\"\n",
    "    driver.get(recipe)\n",
    "    time.sleep(1)\n",
    "    try:\n",
    "        elem = driver.find_element_by_xpath(\"/html[1]/body[1]/main[1]/article[1]/div[3]/div[3]/div[7]/div[1]/table[1]/tbody[1]/tr[1]/td[1]\").text\n",
    "    except Exception as e:\n",
    "        elem = driver.find_element_by_xpath(\"/html[1]/body[1]/main[1]/article[1]/div[3]/div[2]/div[7]/div[1]/table[1]/tbody[1]/tr[1]/td[1]\").text\n",
    "    Calories.append(elem)"
   ]
  },
  {
   "cell_type": "code",
   "execution_count": 14,
   "id": "da6d0157",
   "metadata": {},
   "outputs": [
    {
     "data": {
      "text/plain": [
       "['324',\n",
       " '216',\n",
       " '586',\n",
       " '419',\n",
       " '239',\n",
       " '94',\n",
       " '653',\n",
       " '276',\n",
       " '52',\n",
       " '128',\n",
       " '4',\n",
       " '526',\n",
       " '151',\n",
       " '164',\n",
       " '275',\n",
       " '163',\n",
       " '476',\n",
       " '92',\n",
       " '761',\n",
       " '325',\n",
       " '82',\n",
       " '618',\n",
       " '484',\n",
       " '255']"
      ]
     },
     "execution_count": 14,
     "metadata": {},
     "output_type": "execute_result"
    }
   ],
   "source": [
    "Calories"
   ]
  },
  {
   "cell_type": "code",
   "execution_count": 15,
   "id": "3489533b",
   "metadata": {},
   "outputs": [],
   "source": [
    "Fat = []\n",
    "for recipe in recipes:\n",
    "    driver.get(recipe)\n",
    "    time.sleep(1)\n",
    "    try:\n",
    "        elem = driver.find_element_by_xpath(\"/html[1]/body[1]/main[1]/article[1]/div[3]/div[3]/div[7]/div[1]/table[1]/tbody[1]/tr[2]/td[1]\").text\n",
    "    except Exception as e:\n",
    "        elem = driver.find_element_by_xpath(\"/html[1]/body[1]/main[1]/article[1]/div[3]/div[2]/div[7]/div[1]/table[1]/tbody[1]/tr[2]/td[1]\").text\n",
    "    Fat.append(elem)"
   ]
  },
  {
   "cell_type": "code",
   "execution_count": 16,
   "id": "ef67184f",
   "metadata": {},
   "outputs": [],
   "source": [
    "for recipe in another_recipes:\n",
    "    driver.get(recipe)\n",
    "    time.sleep(1)\n",
    "    try:\n",
    "        elem = driver.find_element_by_xpath(\"/html[1]/body[1]/main[1]/article[1]/div[3]/div[3]/div[7]/div[1]/table[1]/tbody[1]/tr[2]/td[1]\").text\n",
    "    except Exception as e:\n",
    "        elem = driver.find_element_by_xpath(\"/html[1]/body[1]/main[1]/article[1]/div[3]/div[2]/div[7]/div[1]/table[1]/tbody[1]/tr[2]/td[1]\").text\n",
    "    Fat.append(elem)"
   ]
  },
  {
   "cell_type": "code",
   "execution_count": 17,
   "id": "4079a5e8",
   "metadata": {},
   "outputs": [
    {
     "data": {
      "text/plain": [
       "['18g',\n",
       " '9g',\n",
       " '44g',\n",
       " '19g',\n",
       " '11g',\n",
       " '4g',\n",
       " '28g',\n",
       " '18g',\n",
       " '6g',\n",
       " '14g',\n",
       " '0g',\n",
       " '34g',\n",
       " '6g',\n",
       " '8g',\n",
       " '19g',\n",
       " '18g',\n",
       " '28g',\n",
       " '1g',\n",
       " '68g',\n",
       " '20g',\n",
       " '1g',\n",
       " '36g',\n",
       " '34g',\n",
       " '19g']"
      ]
     },
     "execution_count": 17,
     "metadata": {},
     "output_type": "execute_result"
    }
   ],
   "source": [
    "Fat"
   ]
  },
  {
   "cell_type": "code",
   "execution_count": 18,
   "id": "d0077f54",
   "metadata": {},
   "outputs": [],
   "source": [
    "Carbs = []\n",
    "for recipe in recipes:\n",
    "    driver.get(recipe)\n",
    "    time.sleep(1)\n",
    "    try:\n",
    "        elem = driver.find_element_by_xpath(\"/html[1]/body[1]/main[1]/article[1]/div[3]/div[3]/div[7]/div[1]/table[1]/tbody[1]/tr[3]/td[1]\").text\n",
    "    except Exception as e:\n",
    "        elem = driver.find_element_by_xpath(\"/html[1]/body[1]/main[1]/article[1]/div[3]/div[2]/div[7]/div[1]/table[1]/tbody[1]/tr[3]/td[1]\").text\n",
    "    Carbs.append(elem)"
   ]
  },
  {
   "cell_type": "code",
   "execution_count": 19,
   "id": "572a51f2",
   "metadata": {},
   "outputs": [],
   "source": [
    "for recipe in another_recipes:\n",
    "    driver.get(recipe)\n",
    "    time.sleep(1)\n",
    "    try:\n",
    "        elem = driver.find_element_by_xpath(\"/html[1]/body[1]/main[1]/article[1]/div[3]/div[3]/div[7]/div[1]/table[1]/tbody[1]/tr[3]/td[1]\").text\n",
    "    except Exception as e:\n",
    "        elem = driver.find_element_by_xpath(\"/html[1]/body[1]/main[1]/article[1]/div[3]/div[2]/div[7]/div[1]/table[1]/tbody[1]/tr[3]/td[1]\").text\n",
    "    Carbs.append(elem)"
   ]
  },
  {
   "cell_type": "code",
   "execution_count": 20,
   "id": "cc58e701",
   "metadata": {},
   "outputs": [
    {
     "data": {
      "text/plain": [
       "['37g',\n",
       " '26g',\n",
       " '28g',\n",
       " '13g',\n",
       " '34g',\n",
       " '10g',\n",
       " '14g',\n",
       " '28g',\n",
       " '1g',\n",
       " '2g',\n",
       " '1g',\n",
       " '56g',\n",
       " '21g',\n",
       " '17g',\n",
       " '25g',\n",
       " '1g',\n",
       " '49g',\n",
       " '18g',\n",
       " '19g',\n",
       " '35g',\n",
       " '9g',\n",
       " '39g',\n",
       " '8g',\n",
       " '5g']"
      ]
     },
     "execution_count": 20,
     "metadata": {},
     "output_type": "execute_result"
    }
   ],
   "source": [
    "Carbs"
   ]
  },
  {
   "cell_type": "code",
   "execution_count": 21,
   "id": "365089a2",
   "metadata": {},
   "outputs": [],
   "source": [
    "Protein = []\n",
    "for recipe in recipes:\n",
    "    driver.get(recipe)\n",
    "    time.sleep(1)\n",
    "    try:\n",
    "        elem = driver.find_element_by_xpath(\"/html[1]/body[1]/main[1]/article[1]/div[3]/div[3]/div[7]/div[1]/table[1]/tbody[1]/tr[4]/td[1]\").text\n",
    "    except Exception as e:\n",
    "        elem = driver.find_element_by_xpath(\"/html[1]/body[1]/main[1]/article[1]/div[3]/div[2]/div[7]/div[1]/table[1]/tbody[1]/tr[4]/td[1]\").text\n",
    "    Protein.append(elem)"
   ]
  },
  {
   "cell_type": "code",
   "execution_count": 22,
   "id": "311a4abf",
   "metadata": {},
   "outputs": [],
   "source": [
    "for recipe in another_recipes:\n",
    "    driver.get(recipe)\n",
    "    time.sleep(1)\n",
    "    try:\n",
    "        elem = driver.find_element_by_xpath(\"/html[1]/body[1]/main[1]/article[1]/div[3]/div[3]/div[7]/div[1]/table[1]/tbody[1]/tr[4]/td[1]\").text\n",
    "    except Exception as e:\n",
    "        elem = driver.find_element_by_xpath(\"/html[1]/body[1]/main[1]/article[1]/div[3]/div[2]/div[7]/div[1]/table[1]/tbody[1]/tr[4]/td[1]\").text\n",
    "    Protein.append(elem)"
   ]
  },
  {
   "cell_type": "code",
   "execution_count": 23,
   "id": "9e0cc629",
   "metadata": {},
   "outputs": [
    {
     "data": {
      "text/plain": [
       "['4g',\n",
       " '7g',\n",
       " '21g',\n",
       " '46g',\n",
       " '4g',\n",
       " '4g',\n",
       " '77g',\n",
       " '5g',\n",
       " '0g',\n",
       " '0g',\n",
       " '0g',\n",
       " '6g',\n",
       " '4g',\n",
       " '6g',\n",
       " '6g',\n",
       " '2g',\n",
       " '8g',\n",
       " '3g',\n",
       " '19g',\n",
       " '4g',\n",
       " '2g',\n",
       " '30g',\n",
       " '38g',\n",
       " '6g']"
      ]
     },
     "execution_count": 23,
     "metadata": {},
     "output_type": "execute_result"
    }
   ],
   "source": [
    "Protein"
   ]
  },
  {
   "cell_type": "code",
   "execution_count": 24,
   "id": "ec931520",
   "metadata": {},
   "outputs": [
    {
     "name": "stdout",
     "output_type": "stream",
     "text": [
      "                                 name  \\\n",
      "0                         Pâte Sucrée   \n",
      "1                        Basic Crêpes   \n",
      "2   Rich and Simple French Onion Soup   \n",
      "3                 Chicken Cordon Bleu   \n",
      "4                    Fondant Potatoes   \n",
      "5                       French Crêpes   \n",
      "6                   Lobster Thermidor   \n",
      "7                       Buche de Noel   \n",
      "8           Chef John's Crème Fraîche   \n",
      "9          The Best Lemon Vinaigrette   \n",
      "10                  Herbs de Provence   \n",
      "11                 Chocolate Yule Log   \n",
      "12                       Pastry Cream   \n",
      "13                     Dessert Crepes   \n",
      "14               Disney's Ratatouille   \n",
      "15          Blender Hollandaise Sauce   \n",
      "16                            Eclairs   \n",
      "17        Macarons (French Macaroons)   \n",
      "18                    Quiche Lorraine   \n",
      "19                 Lyonnaise Potatoes   \n",
      "20       How to Make Bordelaise Sauce   \n",
      "21         French Onion Soup Gratinée   \n",
      "22                    Omelet in a Bag   \n",
      "23             Chef John's Coq au Vin   \n",
      "\n",
      "                                          Description Calories  Fat Carbs  \\\n",
      "0   Pâte sucrée is a French sweet tart crust that ...      324  18g   37g   \n",
      "1   This simple but delicious crêpe recipe can be ...      216   9g   26g   \n",
      "2   We have been trying French onion soup in resta...      586  44g   28g   \n",
      "3   This entree is easy and delicious! It's one of...      419  19g   13g   \n",
      "4   My fondant potatoes are oven-braised in a butt...      239  11g   34g   \n",
      "5   French crêpes are good for weekend breakfasts,...       94   4g   10g   \n",
      "6   This stunning lobster Thermidor is surprisingl...      653  28g   14g   \n",
      "7   Buche de Noel is the French name for a Christm...      276  18g   28g   \n",
      "8   Crème fraîche is very easy to make. Once you t...       52   6g    1g   \n",
      "9   This lemon vinaigrette is one of my favorite s...      128  14g    2g   \n",
      "10  This herbs de Provence recipe was developed af...        4   0g    1g   \n",
      "11  If you haven't tried this Yule log recipe beca...      526  34g   56g   \n",
      "12  Fill pastry with cream made with this classic ...      151   6g   21g   \n",
      "13  This crepe recipe is essential for a fancy bre...      164   8g   17g   \n",
      "14  This Disney ratatouille recipe makes the beaut...      275  19g   25g   \n",
      "15  This blender Hollandaise has all the same ingr...      163  18g    1g   \n",
      "16  These eclairs are always a hit! My family love...      476  28g   49g   \n",
      "17  Macarons are made with finely ground almonds, ...       92   1g   18g   \n",
      "18  This quiche lorraine is a timeless classic. Ba...      761  68g   19g   \n",
      "19  These Lyonnaise potatoes are a classic dish ma...      325  20g   35g   \n",
      "20  This bordelaise sauce is a simple version of t...       82   1g    9g   \n",
      "21  This is the best French onion soup recipe I kn...      618  36g   39g   \n",
      "22  This easy omelet-in-a-bag recipe is great for ...      484  34g    8g   \n",
      "23  I make coq au vin with bone-in, skin-on chicke...      255  19g    5g   \n",
      "\n",
      "   Protein  \n",
      "0       4g  \n",
      "1       7g  \n",
      "2      21g  \n",
      "3      46g  \n",
      "4       4g  \n",
      "5       4g  \n",
      "6      77g  \n",
      "7       5g  \n",
      "8       0g  \n",
      "9       0g  \n",
      "10      0g  \n",
      "11      6g  \n",
      "12      4g  \n",
      "13      6g  \n",
      "14      6g  \n",
      "15      2g  \n",
      "16      8g  \n",
      "17      3g  \n",
      "18     19g  \n",
      "19      4g  \n",
      "20      2g  \n",
      "21     30g  \n",
      "22     38g  \n",
      "23      6g  \n"
     ]
    }
   ],
   "source": [
    "import pandas as pd\n",
    "df = pd.DataFrame({'name':names, 'Description':Descriptions, 'Calories':Calories, 'Fat':Fat, 'Carbs':Carbs, 'Protein':Protein})\n",
    "df.to_csv('cuisine-francaise')\n",
    "print(df)"
   ]
  },
  {
   "cell_type": "code",
   "execution_count": null,
   "id": "bfa358f4",
   "metadata": {},
   "outputs": [],
   "source": []
  }
 ],
 "metadata": {
  "kernelspec": {
   "display_name": "Python 3 (ipykernel)",
   "language": "python",
   "name": "python3"
  },
  "language_info": {
   "codemirror_mode": {
    "name": "ipython",
    "version": 3
   },
   "file_extension": ".py",
   "mimetype": "text/x-python",
   "name": "python",
   "nbconvert_exporter": "python",
   "pygments_lexer": "ipython3",
   "version": "3.9.7"
  }
 },
 "nbformat": 4,
 "nbformat_minor": 5
}
