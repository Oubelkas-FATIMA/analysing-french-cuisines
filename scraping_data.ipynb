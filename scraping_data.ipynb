{
 "cells": [
  {
   "cell_type": "code",
   "execution_count": 1,
   "id": "8b48e06f",
   "metadata": {},
   "outputs": [],
   "source": [
    "from selenium import webdriver\n",
    "from selenium.webdriver.common.by import By\n",
    "from selenium.webdriver.support.ui import WebDriverWait\n",
    "from selenium.webdriver.support import expected_conditions as EC\n",
    "from bs4 import BeautifulSoup\n",
    "\n",
    "from selenium.webdriver.support import expected_conditions as ec\n",
    "from selenium.webdriver.common.keys import Keys\n",
    "from selenium.webdriver import ActionChains\n",
    "import time\n",
    "\n",
    "# Launch a browser and navigate to the page you want to scrape\n",
    "driver = webdriver.Chrome(executable_path=\"C:/Users/XPRISTO/Downloads/chromedriver_win32/chromedriver\")\n",
    "url = 'https://www.allrecipes.com/recipes/721/world-cuisine/european/french/'\n",
    "driver.get(url)\n",
    "time.sleep(2)\n",
    "\n",
    "# defining the webdriver and config\n",
    "chrome_options = webdriver.ChromeOptions()\n",
    "\n",
    "# !!! blocking browser notifications !!!\n",
    "prefs = {\"profile.default_content_setting_values.notifications\" : 2} \n",
    "chrome_options.add_experimental_option(\"prefs\", prefs)\n",
    "\n",
    "# starting in maximized window\n",
    "chrome_options.add_argument(\"start-maximized\")\n",
    "\n",
    "# dont know what this command does\n",
    "chrome_options.add_argument(\"--disable-default-apps\")\n",
    "\n",
    "driver.maximize_window()\n",
    "time.sleep(2)\n",
    "\n",
    "recipes = []\n",
    "\n",
    "# find all elements with the same class name using find_elements_by_class_name()\n",
    "# elements = driver.find_elements_by_class_name('comp mntl-card-list-items mntl-document-card mntl-card card card--no-image')\n",
    "\n",
    "for i in range(1,13):\n",
    "    recipe = driver.find_element_by_xpath(\"/html[1]/body[1]/main[1]/section[1]/div[3]/div[1]/div[1]/div[1]/a[\"+str(i)+\"]\").get_attribute('href')\n",
    "    recipes.append(recipe)\n"
   ]
  },
  {
   "cell_type": "code",
   "execution_count": 2,
   "id": "13f88cab",
   "metadata": {},
   "outputs": [
    {
     "data": {
      "text/plain": [
       "['https://www.allrecipes.com/recipe/8494742/pate-sucree/',\n",
       " 'https://www.allrecipes.com/recipe/16383/basic-crepes/',\n",
       " 'https://www.allrecipes.com/recipe/13309/rich-and-simple-french-onion-soup/',\n",
       " 'https://www.allrecipes.com/recipe/8495/chicken-cordon-bleu-i/',\n",
       " 'https://www.allrecipes.com/recipe/233295/fondant-potatoes/',\n",
       " 'https://www.allrecipes.com/recipe/20931/french-crepes/',\n",
       " 'https://www.allrecipes.com/recipe/87386/lobster-thermidor/',\n",
       " 'https://www.allrecipes.com/recipe/17345/buche-de-noel/',\n",
       " 'https://www.allrecipes.com/recipe/222387/chef-johns-creme-fraiche/',\n",
       " 'https://www.allrecipes.com/recipe/236780/the-best-lemon-vinaigrette/',\n",
       " 'https://www.allrecipes.com/recipe/223272/herbs-de-provence/',\n",
       " 'https://www.allrecipes.com/recipe/269557/chocolate-yule-log/']"
      ]
     },
     "execution_count": 2,
     "metadata": {},
     "output_type": "execute_result"
    }
   ],
   "source": [
    "recipes"
   ]
  },
  {
   "cell_type": "code",
   "execution_count": 3,
   "id": "0add3569",
   "metadata": {},
   "outputs": [],
   "source": [
    "another_recipes = []\n",
    "for i in range(1,13):\n",
    "    recip = driver.find_element_by_xpath(\"/html[1]/body[1]/main[1]/section[1]/div[3]/div[1]/div[2]/div[1]/a[\"+str(i)+\"]\").get_attribute('href')\n",
    "    another_recipes.append(recip)"
   ]
  },
  {
   "cell_type": "code",
   "execution_count": 4,
   "id": "3abd06b0",
   "metadata": {},
   "outputs": [
    {
     "data": {
      "text/plain": [
       "['https://www.allrecipes.com/recipe/76043/pastry-cream/',\n",
       " 'https://www.allrecipes.com/recipe/19037/dessert-crepes/',\n",
       " 'https://www.allrecipes.com/recipe/222006/disneys-ratatouille/',\n",
       " 'https://www.allrecipes.com/recipe/84214/blender-hollandaise-sauce/',\n",
       " 'https://www.allrecipes.com/recipe/19010/eclairs-ii/',\n",
       " 'https://www.allrecipes.com/recipe/223234/macaron-french-macaroon/',\n",
       " 'https://www.allrecipes.com/recipe/17515/quiche-lorraine-i/',\n",
       " 'https://www.allrecipes.com/recipe/19843/lyonnaise-potatoes/',\n",
       " 'https://www.allrecipes.com/recipe/234930/how-to-make-bordelaise-sauce/',\n",
       " 'https://www.allrecipes.com/recipe/91192/french-onion-soup-gratinee/',\n",
       " 'https://www.allrecipes.com/recipe/85107/omelet-in-a-bag/',\n",
       " 'https://www.allrecipes.com/recipe/239230/chef-johns-coq-au-vin/']"
      ]
     },
     "execution_count": 4,
     "metadata": {},
     "output_type": "execute_result"
    }
   ],
   "source": [
    "another_recipes"
   ]
  },
  {
   "cell_type": "code",
   "execution_count": 5,
   "id": "6d4dd0ec",
   "metadata": {},
   "outputs": [],
   "source": [
    "names = []\n",
    "for recipe in recipes:\n",
    "    driver.get(recipe)\n",
    "    time.sleep(1)\n",
    "    element =  driver.find_element_by_xpath(\"/html[1]/body[1]/main[1]/article[1]/div[2]/h1[1]\").text\n",
    "    names.append(element)\n",
    "\n",
    "\n"
   ]
  },
  {
   "cell_type": "code",
   "execution_count": 6,
   "id": "7346b879",
   "metadata": {},
   "outputs": [
    {
     "data": {
      "text/plain": [
       "['Pâte Sucrée',\n",
       " 'Basic Crêpes',\n",
       " 'Rich and Simple French Onion Soup',\n",
       " 'Chicken Cordon Bleu',\n",
       " 'Fondant Potatoes',\n",
       " 'French Crêpes',\n",
       " 'Lobster Thermidor',\n",
       " 'Buche de Noel',\n",
       " \"Chef John's Crème Fraîche\",\n",
       " 'The Best Lemon Vinaigrette',\n",
       " 'Herbs de Provence',\n",
       " 'Chocolate Yule Log']"
      ]
     },
     "execution_count": 6,
     "metadata": {},
     "output_type": "execute_result"
    }
   ],
   "source": [
    "names"
   ]
  },
  {
   "cell_type": "code",
   "execution_count": 7,
   "id": "6349c026",
   "metadata": {},
   "outputs": [],
   "source": [
    "for recipe in another_recipes:\n",
    "    driver.get(recipe)\n",
    "    time.sleep(1)\n",
    "    element =  driver.find_element_by_xpath(\"/html[1]/body[1]/main[1]/article[1]/div[2]/h1[1]\").text\n",
    "    names.append(element)\n"
   ]
  },
  {
   "cell_type": "code",
   "execution_count": 8,
   "id": "5745c060",
   "metadata": {},
   "outputs": [
    {
     "data": {
      "text/plain": [
       "['Pâte Sucrée',\n",
       " 'Basic Crêpes',\n",
       " 'Rich and Simple French Onion Soup',\n",
       " 'Chicken Cordon Bleu',\n",
       " 'Fondant Potatoes',\n",
       " 'French Crêpes',\n",
       " 'Lobster Thermidor',\n",
       " 'Buche de Noel',\n",
       " \"Chef John's Crème Fraîche\",\n",
       " 'The Best Lemon Vinaigrette',\n",
       " 'Herbs de Provence',\n",
       " 'Chocolate Yule Log',\n",
       " 'Pastry Cream',\n",
       " 'Dessert Crepes',\n",
       " \"Disney's Ratatouille\",\n",
       " 'Blender Hollandaise Sauce',\n",
       " 'Eclairs',\n",
       " 'Macarons (French Macaroons)',\n",
       " 'Quiche Lorraine',\n",
       " 'Lyonnaise Potatoes',\n",
       " 'How to Make Bordelaise Sauce',\n",
       " 'French Onion Soup Gratinée',\n",
       " 'Omelet in a Bag',\n",
       " \"Chef John's Coq au Vin\"]"
      ]
     },
     "execution_count": 8,
     "metadata": {},
     "output_type": "execute_result"
    }
   ],
   "source": [
    "names"
   ]
  },
  {
   "cell_type": "code",
   "execution_count": 9,
   "id": "72005ff6",
   "metadata": {},
   "outputs": [],
   "source": [
    "Descriptions = []\n",
    "for recipe in recipes:\n",
    "    driver.get(recipe)\n",
    "    time.sleep(1)\n",
    "    element =  driver.find_element_by_xpath(\"/html[1]/body[1]/main[1]/article[1]/div[2]/p[1]\").text\n",
    "    Descriptions.append(element)"
   ]
  },
  {
   "cell_type": "code",
   "execution_count": 11,
   "id": "f25a7c0d",
   "metadata": {},
   "outputs": [],
   "source": [
    "for recipe in another_recipes:\n",
    "    driver.get(recipe)\n",
    "    time.sleep(1)\n",
    "    element =  driver.find_element_by_xpath(\"/html[1]/body[1]/main[1]/article[1]/div[2]/p[1]\").text\n",
    "    Descriptions.append(element)"
   ]
  },
  {
   "cell_type": "code",
   "execution_count": 12,
   "id": "12b61f40",
   "metadata": {},
   "outputs": [
    {
     "data": {
      "text/plain": [
       "['Pâte sucrée is a French sweet tart crust that is located somewhere between a shortbread cookie and a sugar cookie with a nice buttery richness.',\n",
       " 'This simple but delicious crêpe recipe can be made in minutes from ingredients that everyone has on hand.',\n",
       " 'We have been trying French onion soup in restaurants for years, and my family and friends agree — none can compare to my recipe for taste and simplicity of preparation.',\n",
       " \"This entree is easy and delicious! It's one of my husband's favorites! Try to use the largest chicken breasts you can find so you'll be able to roll them easier.\",\n",
       " 'My fondant potatoes are oven-braised in a buttery, thyme-flavored sauce. The result of this old-school method? Golden brown potatoes with a crispy crust that remain rich and creamy on the insides. Serve this classic French side dish alongside roast chicken, beef, or fish.',\n",
       " 'French crêpes are good for weekend breakfasts, or even for desserts. Serve rolled up and filled with jam or fruit and whipped cream.',\n",
       " 'This stunning lobster Thermidor is surprisingly simple to make. Lobster shells are stuffed with cooked lobster in a creamy white wine sauce, then topped with Parmesan cheese and broiled until golden.',\n",
       " \"Buche de Noel is the French name for a Christmas cake shaped like a log. This one is a heavenly flourless chocolate cake rolled with chocolate whipped cream and decorated with confectioners' sugar to resemble snow on a yule log. It doesn't just look beautiful — it tastes wonderful, too!\",\n",
       " \"Crème fraîche is very easy to make. Once you taste the magic of this homemade sour cream, you'll have a hard time not repeating this esoteric exercise. Sure it takes a couple of days, but the effort is minimal, and the payoff is marvelous.\",\n",
       " 'This lemon vinaigrette is one of my favorite salad dressings. It works for a simple salad or with crispy Parmesan chicken on a green salad.',\n",
       " \"This herbs de Provence recipe was developed after looking at many different recipes. It's my version of the classic dried herb seasoning that tastes great in salads and on fish, chicken, beef, or pork. The fragrance is amazing!\",\n",
       " \"If you haven't tried this Yule log recipe because you thought it required advanced baking and pastry skill, then get ready to buche up this Noel, since the techniques required are actually quite simple. This classic holiday dessert is a showstopper, but it's often better looking than it is tasting, which is not the case here, thanks to a simple-to-make, rich chocolate sponge cake, and mocha buttercream filling. Garnished here with meringue mushrooms and rosemary.\",\n",
       " 'Fill pastry with cream made with this classic recipe for pastry cream often used in bakeries and restaurants. It can be used to fill cakes, pies, or pastries. To make a lighter filling, fold in plain whipped cream.',\n",
       " 'This crepe recipe is essential for a fancy breakfast or eye-catching dessert. Sprinkle warm crepes with sugar and lemon, or serve with whipped cream, ice cream, and fruit.',\n",
       " 'This Disney ratatouille recipe makes the beautiful dish served up in the movie of the same name. Long and narrow vegetables work best. Serve with crusty bread or over a bed of brown rice, couscous, or pasta.',\n",
       " 'This blender Hollandaise has all the same ingredients and consistency as the classic sauce, but no double boiler and no chance of the sauce separating. I love the lemony flavor on freshly steamed asparagus!',\n",
       " 'These eclairs are always a hit! My family loves these eclairs and requests them all the time. I usually make them as dessert whenever we have company coming.',\n",
       " \"Macarons are made with finely ground almonds, confectioners' sugar, and egg whites. They are the most delicious soft cookies with crispy edges. I finally perfected the technique and wanted to share it. Pipe your choice of filling or frosting on a cookie and sandwich another cookie on top.\",\n",
       " 'This quiche lorraine is a timeless classic. Bacon, Swiss cheese, and onions mingle in perfect harmony amidst eggs and cream. Perfect for breakfast, brunch, lunch, dinner, or just an indulgent snack!',\n",
       " 'These Lyonnaise potatoes are a classic dish made with sliced potatoes and onions.',\n",
       " \"This bordelaise sauce is a simple version of the classic French red wine and shallot reduction sauce. It's fantastic on a steak, roast beef, or whatever!\",\n",
       " 'This is the best French onion soup recipe I know. I have been making it for 30 years and it never fails to please. It makes an exquisite presentation too!',\n",
       " 'This easy omelet-in-a-bag recipe is great for when there are picky eaters in the crowd who want different egg additions. You can make as many as needed or just one if you like. Got this from an internet friend. Good served with fruit and coffee cake.',\n",
       " \"I make coq au vin with bone-in, skin-on chicken thighs instead of an old rooster. Like all braised dishes, tougher cuts with lots of connective tissue work best, and on a chicken that would be the thigh/leg section. Of course, someone will ask if they can use chicken breasts; please don't. They just will not add that sticky goodness to the braising liquid that the thighs will.\"]"
      ]
     },
     "execution_count": 12,
     "metadata": {},
     "output_type": "execute_result"
    }
   ],
   "source": [
    "Descriptions"
   ]
  },
  {
   "cell_type": "code",
   "execution_count": 18,
   "id": "74f4daee",
   "metadata": {},
   "outputs": [],
   "source": [
    "Calories = []\n",
    "for recipe in recipes:\n",
    "    career = \"\"\n",
    "    driver.get(recipe)\n",
    "    time.sleep(1)\n",
    "    try:\n",
    "        elem = driver.find_element_by_xpath(\"/html[1]/body[1]/main[1]/article[1]/div[3]/div[3]/div[7]/div[1]/table[1]/tbody[1]/tr[1]/td[1]\").text\n",
    "    except Exception as e:\n",
    "        elem = driver.find_element_by_xpath(\"/html[1]/body[1]/main[1]/article[1]/div[3]/div[2]/div[7]/div[1]/table[1]/tbody[1]/tr[1]/td[1]\").text\n",
    "    Calories.append(elem)"
   ]
  },
  {
   "cell_type": "code",
   "execution_count": 20,
   "id": "dbbd1577",
   "metadata": {},
   "outputs": [],
   "source": [
    "for recipe in another_recipes:\n",
    "    career = \"\"\n",
    "    driver.get(recipe)\n",
    "    time.sleep(1)\n",
    "    try:\n",
    "        elem = driver.find_element_by_xpath(\"/html[1]/body[1]/main[1]/article[1]/div[3]/div[3]/div[7]/div[1]/table[1]/tbody[1]/tr[1]/td[1]\").text\n",
    "    except Exception as e:\n",
    "        elem = driver.find_element_by_xpath(\"/html[1]/body[1]/main[1]/article[1]/div[3]/div[2]/div[7]/div[1]/table[1]/tbody[1]/tr[1]/td[1]\").text\n",
    "    Calories.append(elem)"
   ]
  },
  {
   "cell_type": "code",
   "execution_count": 21,
   "id": "7375b750",
   "metadata": {},
   "outputs": [
    {
     "data": {
      "text/plain": [
       "['324',\n",
       " '216',\n",
       " '586',\n",
       " '419',\n",
       " '239',\n",
       " '94',\n",
       " '653',\n",
       " '276',\n",
       " '52',\n",
       " '128',\n",
       " '4',\n",
       " '526',\n",
       " '151',\n",
       " '164',\n",
       " '275',\n",
       " '163',\n",
       " '476',\n",
       " '92',\n",
       " '761',\n",
       " '325',\n",
       " '82',\n",
       " '618',\n",
       " '484',\n",
       " '255']"
      ]
     },
     "execution_count": 21,
     "metadata": {},
     "output_type": "execute_result"
    }
   ],
   "source": [
    "Calories"
   ]
  },
  {
   "cell_type": "code",
   "execution_count": 22,
   "id": "d543be5b",
   "metadata": {},
   "outputs": [],
   "source": [
    "Fat = []\n",
    "for recipe in recipes:\n",
    "    driver.get(recipe)\n",
    "    time.sleep(1)\n",
    "    try:\n",
    "        elem = driver.find_element_by_xpath(\"/html[1]/body[1]/main[1]/article[1]/div[3]/div[3]/div[7]/div[1]/table[1]/tbody[1]/tr[2]/td[1]\").text\n",
    "    except Exception as e:\n",
    "        elem = driver.find_element_by_xpath(\"/html[1]/body[1]/main[1]/article[1]/div[3]/div[2]/div[7]/div[1]/table[1]/tbody[1]/tr[2]/td[1]\").text\n",
    "    Fat.append(elem)"
   ]
  },
  {
   "cell_type": "code",
   "execution_count": 23,
   "id": "d686a9cc",
   "metadata": {},
   "outputs": [],
   "source": [
    "for recipe in another_recipes:\n",
    "    driver.get(recipe)\n",
    "    time.sleep(1)\n",
    "    try:\n",
    "        elem = driver.find_element_by_xpath(\"/html[1]/body[1]/main[1]/article[1]/div[3]/div[3]/div[7]/div[1]/table[1]/tbody[1]/tr[2]/td[1]\").text\n",
    "    except Exception as e:\n",
    "        elem = driver.find_element_by_xpath(\"/html[1]/body[1]/main[1]/article[1]/div[3]/div[2]/div[7]/div[1]/table[1]/tbody[1]/tr[2]/td[1]\").text\n",
    "    Fat.append(elem)"
   ]
  },
  {
   "cell_type": "code",
   "execution_count": 24,
   "id": "6a9ad128",
   "metadata": {},
   "outputs": [
    {
     "data": {
      "text/plain": [
       "['18g',\n",
       " '9g',\n",
       " '44g',\n",
       " '19g',\n",
       " '11g',\n",
       " '4g',\n",
       " '28g',\n",
       " '18g',\n",
       " '6g',\n",
       " '14g',\n",
       " '0g',\n",
       " '34g',\n",
       " '6g',\n",
       " '8g',\n",
       " '19g',\n",
       " '18g',\n",
       " '28g',\n",
       " '1g',\n",
       " '68g',\n",
       " '20g',\n",
       " '1g',\n",
       " '36g',\n",
       " '34g',\n",
       " '19g']"
      ]
     },
     "execution_count": 24,
     "metadata": {},
     "output_type": "execute_result"
    }
   ],
   "source": [
    "Fat"
   ]
  },
  {
   "cell_type": "code",
   "execution_count": 31,
   "id": "a9fbb64b",
   "metadata": {},
   "outputs": [],
   "source": [
    "Carbs = []\n",
    "for recipe in recipes:\n",
    "    driver.get(recipe)\n",
    "    time.sleep(1)\n",
    "    try:\n",
    "        elem = driver.find_element_by_xpath(\"/html[1]/body[1]/main[1]/article[1]/div[3]/div[3]/div[7]/div[1]/table[1]/tbody[1]/tr[3]/td[1]\").text\n",
    "    except Exception as e:\n",
    "        elem = driver.find_element_by_xpath(\"/html[1]/body[1]/main[1]/article[1]/div[3]/div[2]/div[7]/div[1]/table[1]/tbody[1]/tr[3]/td[1]\").text\n",
    "    Carbs.append(elem)"
   ]
  },
  {
   "cell_type": "code",
   "execution_count": 32,
   "id": "7f71a6d9",
   "metadata": {},
   "outputs": [],
   "source": [
    "for recipe in another_recipes:\n",
    "    driver.get(recipe)\n",
    "    time.sleep(1)\n",
    "    try:\n",
    "        elem = driver.find_element_by_xpath(\"/html[1]/body[1]/main[1]/article[1]/div[3]/div[3]/div[7]/div[1]/table[1]/tbody[1]/tr[3]/td[1]\").text\n",
    "    except Exception as e:\n",
    "        elem = driver.find_element_by_xpath(\"/html[1]/body[1]/main[1]/article[1]/div[3]/div[2]/div[7]/div[1]/table[1]/tbody[1]/tr[3]/td[1]\").text\n",
    "    Carbs.append(elem)"
   ]
  },
  {
   "cell_type": "code",
   "execution_count": 33,
   "id": "19e1c0c3",
   "metadata": {},
   "outputs": [
    {
     "data": {
      "text/plain": [
       "['37g',\n",
       " '26g',\n",
       " '28g',\n",
       " '13g',\n",
       " '34g',\n",
       " '10g',\n",
       " '14g',\n",
       " '28g',\n",
       " '1g',\n",
       " '2g',\n",
       " '1g',\n",
       " '56g',\n",
       " '21g',\n",
       " '17g',\n",
       " '25g',\n",
       " '1g',\n",
       " '49g',\n",
       " '18g',\n",
       " '19g',\n",
       " '35g',\n",
       " '9g',\n",
       " '39g',\n",
       " '8g',\n",
       " '5g']"
      ]
     },
     "execution_count": 33,
     "metadata": {},
     "output_type": "execute_result"
    }
   ],
   "source": [
    "Carbs"
   ]
  },
  {
   "cell_type": "code",
   "execution_count": 34,
   "id": "bfaa65d8",
   "metadata": {},
   "outputs": [],
   "source": [
    "Protein = []\n",
    "for recipe in recipes:\n",
    "    driver.get(recipe)\n",
    "    time.sleep(1)\n",
    "    try:\n",
    "        elem = driver.find_element_by_xpath(\"/html[1]/body[1]/main[1]/article[1]/div[3]/div[3]/div[7]/div[1]/table[1]/tbody[1]/tr[4]/td[1]\").text\n",
    "    except Exception as e:\n",
    "        elem = driver.find_element_by_xpath(\"/html[1]/body[1]/main[1]/article[1]/div[3]/div[2]/div[7]/div[1]/table[1]/tbody[1]/tr[4]/td[1]\").text\n",
    "    Protein.append(elem)"
   ]
  },
  {
   "cell_type": "code",
   "execution_count": 35,
   "id": "b42e302c",
   "metadata": {},
   "outputs": [],
   "source": [
    "for recipe in another_recipes:\n",
    "    driver.get(recipe)\n",
    "    time.sleep(1)\n",
    "    try:\n",
    "        elem = driver.find_element_by_xpath(\"/html[1]/body[1]/main[1]/article[1]/div[3]/div[3]/div[7]/div[1]/table[1]/tbody[1]/tr[4]/td[1]\").text\n",
    "    except Exception as e:\n",
    "        elem = driver.find_element_by_xpath(\"/html[1]/body[1]/main[1]/article[1]/div[3]/div[2]/div[7]/div[1]/table[1]/tbody[1]/tr[4]/td[1]\").text\n",
    "    Protein.append(elem)"
   ]
  },
  {
   "cell_type": "code",
   "execution_count": 36,
   "id": "cea92db8",
   "metadata": {},
   "outputs": [
    {
     "data": {
      "text/plain": [
       "['4g',\n",
       " '7g',\n",
       " '21g',\n",
       " '46g',\n",
       " '4g',\n",
       " '4g',\n",
       " '77g',\n",
       " '5g',\n",
       " '0g',\n",
       " '0g',\n",
       " '0g',\n",
       " '6g',\n",
       " '4g',\n",
       " '6g',\n",
       " '6g',\n",
       " '2g',\n",
       " '8g',\n",
       " '3g',\n",
       " '19g',\n",
       " '4g',\n",
       " '2g',\n",
       " '30g',\n",
       " '38g',\n",
       " '6g']"
      ]
     },
     "execution_count": 36,
     "metadata": {},
     "output_type": "execute_result"
    }
   ],
   "source": [
    "Protein"
   ]
  },
  {
   "cell_type": "code",
   "execution_count": 39,
   "id": "b062bb21",
   "metadata": {},
   "outputs": [
    {
     "data": {
      "text/plain": [
       "[\"Allrecipes\\nLog In\\nMagazine\\nNewsletter\\nSweepstakes\\nDINNERS\\nMEALS\\nINGREDIENTS\\nOCCASIONS\\nCUISINES\\nKITCHEN TIPS\\nNEWS\\nFEATURES\\nABOUT US\\nGET THE MAGAZINE\\nDESSERTS\\nPIES\\nPIE CRUSTS\\nPASTRY CRUSTS\\nPâte Sucrée\\nBe the first to rate & review!\\n0 PHOTOS\\nPâte sucrée is a French sweet tart crust that is located somewhere between a shortbread cookie and a sugar cookie with a nice buttery richness.\\nRecipe by Elizabeth Mervosh Updated on February 16, 2023\\nSave\\nRate\\nPrint\\nShare\\nAdd Photo\\nPrep Time:\\n20 mins\\nChill Time:\\n3 hrs\\nStand Time:\\n10 mins\\nBake Time:\\n25 mins\\nCool Time:\\n40 mins\\nTotal Time:\\n4 hrs 35 mins\\nServings:\\n12\\nYield:\\n2 9 1/2-inch tart shells\\nJump to Nutrition Facts\\nIngredients\\n2 large egg yolks\\n¼ cup heavy whipping cream\\n½ teaspoon vanilla extract\\n3 cups all-purpose flour, plus more for dusting\\n¾ cup granulated sugar\\n1 teaspoon kosher salt\\n1 cup cold unsalted butter, cut into 1/2-inch pieces\\nDirections\\nWhisk together egg yolks, cream, and vanilla in a small bowl until thoroughly combined; set aside. Process flour, sugar, and salt in a food processor until combined, about 3 seconds.\\nDOTDASH MEREDITH FOOD STUDIOS\\nAdd butter and pulse until a coarse meal forms, about 12 pulses. Add egg mixture and pulse until mixture starts to clump together, 10 to 12 pulses. Dough will be crumbly but should hold together when squeezed.\\nDOTDASH MEREDITH FOOD STUDIOS\\nTransfer dough to a clean work surface, and press into a single mass. Divide dough evenly into 2 portions. Pat each half into a 1-inch-thick disk. Tightly wrap each dough disk in plastic wrap. Chill dough until firm, at least 2 hours or up to 24 hours.\\nDOTDASH MEREDITH FOOD STUDIOS\\nPlace 1 dough disk on a lightly floured work surface. Let dough sit at room temperature 10 minutes to soften. Lightly grease removable bottom only of a 9 1/2-inch tart pan with butter. Roll dough to a 13-inch circle, dusting dough with flour as needed to prevent sticking. Brush off excess flour from dough.\\nDOTDASH MEREDITH FOOD STUDIOS\\nCarefully roll dough around rolling pin, then unroll over the prepared pan. Press dough into the bottom and up the sides of the pan, trimming any excess dough.\\nDOTDASH MEREDITH FOOD STUDIOS\\nAlternatively, press dough into pan without rolling. Patch any cracks with excess dough.\\nDOTDASH MEREDITH FOOD STUDIOS\\nPrick crust all over with a fork. Chill, loosely covered with plastic wrap, 1 hour.\\nDOTDASH MEREDITH FOOD STUDIOS\\nWhile tart shell chills, preheat oven to 350 degrees F (175 degrees C).\\nLine crust with parchment and fill with pie weights or dried beans. Bake in the preheated oven until crust is golden around the edges, 15 to 20 minutes.\\nDOTDASH MEREDITH FOOD STUDIOS\\nRemove weights and parchment. Return to the oven and continue to bake until the bottom of crust is golden brown and looks dry, 10 to 15 minutes.\\nDOTDASH MEREDITH FOOD STUDIOS\\nTransfer tart shell to a wire rack and let cool completely, about 40 minutes.\\nDOTDASH MEREDITH FOOD STUDIOS\\nCook's Note:\\nThis dough is hard to roll out and wants to crack, but you can easily patch up any cracks with dough trim - you won't see the patches once filled.\\nI MADE IT\\nPRINT\\nNutrition Facts (per serving)\\n324 Calories\\n18g Fat\\n37g Carbs\\n4g Protein\\nShow Full Nutrition Label\\nReviews\\nCheck out our Community Guidelines about reviews.\\nWhat do you think of this recipe? Share your experience to help others.\\nADD RATING & REVIEW\\nBe the first to review!\\nYou’ll Also Love\\nMiracle Baking Powder Pie Crust\\n159 Ratings\\nButter Flaky Pie Crust\\n2,142 Ratings\\nBritish Shortcrust Pie Pastry\\n5 Ratings\\nShortbread Pie Crust\\n30 Ratings\\nBrownie Pie\\n4 Ratings\\nFresh Strawberry Tart\\n11 Ratings\\nBest Ever Pie Crust\\n1,068 Ratings\\nBasic 100% Whole Wheat Pie Crust\\n5 Ratings\\nBlueberry Raspberry Pie\\n17 Ratings\\nNever-Fail Gluten Free Pie Crust\\n12 Ratings\\nSable Cookies\\n1 Rating\\nSweet Tart Pastry\\n9 Ratings\\nCherry Pie\\n430 Ratings\\nGramma's Butter Tarts\\n9 Ratings\\nGluten-Free Pie Crust\\n26 Ratings\\nFudge Stripe Cookies\\n4 Ratings\\nAllrecipes\\nNEWSLETTER\\nFollow Us\\nFacebook\\nInstagram\\nPinterest\\nTikTok\\nYouTube\\nTwitter\\nFlipboard\\nDINNERS\\nMEALS\\nINGREDIENTS\\nOCCASIONS\\nCUISINES\\nKITCHEN TIPS\\nNEWS\\nFEATURES\\nAbout Us\\nContent Licensing\\nEditorial Process\\nAnti-Racism Pledge\\nPrivacy Policy\\nProduct Vetting\\nTerms of Use\\nAdvertise\\nCareers\\nContact\\nAllrecipes is part of the Dotdash Meredith publishing family.\",\n",
       " 'Allrecipes\\nLog In\\nMagazine\\nNewsletter\\nSweepstakes\\nDINNERS\\nMEALS\\nINGREDIENTS\\nOCCASIONS\\nCUISINES\\nKITCHEN TIPS\\nNEWS\\nFEATURES\\nABOUT US\\nGET THE MAGAZINE\\nRECIPES\\nBREAKFAST AND BRUNCH\\nCREPES\\nSWEET\\nBasic Crêpes\\n4.6\\n(4,078)\\n2,957 REVIEWS\\n638 PHOTOS\\nThis simple but delicious crêpe recipe can be made in minutes from ingredients that everyone has on hand.\\nRecipe by JENNYC819 Updated on January 31, 2023\\nSave\\nRate\\nPrint\\nShare\\nAdd Photo\\n638\\nPrep Time:\\n10 mins\\nCook Time:\\n20 mins\\nTotal Time:\\n30 mins\\nServings:\\n4\\nYield:\\n8 crêpes\\nJump to Nutrition Facts\\nJUMP TO RECIPE\\nAre you intimidated by the thought of making crêpes at home? Don\\'t be! This crêpe recipe yields perfectly delicate, tender results every time.\\nWhat Is a Crêpe?\\nCrêpes are very thin pancakes. They can be served with a wide variety of sweet and savory fillings and toppings. The breakfast staple dates back to at least 13th-century France.\\nMEREDITH FOOD STUDIOS\\nHow to Make Crêpes\\nMaking homemade crêpes is easier than you think. You\\'ll find a detailed ingredient list and step-by-step instructions in the recipe below, but let\\'s go over the basics:\\nWhat Are Crêpes Made Of?\\nCrêpes are easy to make with basic ingredients you likely already have on hand:\\n· Flour: These basic French crêpes start with a cup of all-purpose flour.\\n· Eggs: Eggs act as a binder, which means they help hold the batter together.\\n· Milk: Milk adds moisture and keeps the crêpes tender.\\n· Water: Water helps thin the batter.\\n· Salt: A pinch of salt enhances the overall flavor.\\n· Butter: Butter lends richness and moisture to the crêpes.\\nHow to Make Crêpes At Home\\nHere\\'s a very brief overview of what you can expect when you make homemade crêpes:\\n1. Whisk the flour and eggs.\\n2. Gradually add the milk and water.\\n3. Scoop the batter onto a hot griddle.\\n4. Cook until lightly browned on the bottom.\\n5. Flip and continue cooking until done on both sides.\\nCrêpe Filling Ideas\\nYou can fill and top your crêpes with whatever you like! Popular choices include whipped cream, fresh fruit, fruit sauce, cream cheese, and chocolate-hazelnut spread (such as Nutella). You can also make savory crepes with cheese, meats, and veggies.\\nRACKOFLAM\\nHow to Serve Crêpes\\nA fun way to serve crêpes: Set up a crêpe bar where everyone can assemble their own creations with whatever toppings and fillings they want!\\nHow to Store Crêpes\\nStack the crepes with wax paper in between each layer. Place them in an airtight container or zip-top bag, then store in the refrigerator for up to two days. You can freeze the crêpes for up to two months.\\nAllrecipes Community Tips and Praise\\n\"This by far is the best crêpes recipe I tried,\" raves one Allrecipes community member. \"I love crêpes, I am used to the real deal and this is it. I strongly recommend not to make them thick, just remember that you are making crêpes not pancakes.\"\\n\"Such an easy recipe that you can doctor up any way you want,\" according to Sarah \"Wilson\" Arnold. \"I followed the recipe, only added a bit of sugar and vanilla and they are perfect!\"\\n\"Love these and so easy,\" says Kimberly Kays. \"I served them with Greek yogurt, honey, and blueberries.\"\\nEditorial contributions by Corey Williams\\nIngredients\\n1 cup all-purpose flour\\n2 large eggs\\n½ cup milk\\n½ cup water\\n¼ teaspoon salt\\n2 tablespoons butter, melted\\nDirections\\nWhisk flour and eggs together in a large mixing bowl; gradually add in milk and water, stirring to combine. Add salt and melted butter; beat until smooth.\\nHeat a lightly oiled griddle or frying pan over medium-high heat. Pour or scoop the batter onto the griddle, using approximately 1/4 cup for each crêpe. Tilt the pan with a circular motion so that the batter coats the surface evenly.\\nCook until the top of the crêpe is no longer wet and the bottom has turned light brown, 1 to 2 minutes. Run a spatula around the edge of the skillet to loosen the crêpe; flip and cook until the other side has turned light brown, about 1 minute more. Serve hot.\\nDOTDASH MEREDITH FOOD STUDIOS\\nTips\\nRead our picks for the best non-stick cookware to make cooking your favorite recipes that much easier.\\nOnce you\\'ve mastered this basic recipe, try your hand at a crêpe cake!\\nI MADE IT\\nPRINT\\nNutrition Facts (per serving)\\n216 Calories\\n9g Fat\\n26g Carbs\\n7g Protein\\nShow Full Nutrition Label\\nReviews (2\\u202f957)\\nCheck out our Community Guidelines about reviews.\\nWhat do you think of this recipe? Share your experience to help others.\\nADD RATING & REVIEW\\n4.6 out of 5\\n4078 Ratings\\n1\\n101\\n2\\n55\\n3\\n141\\n4\\n724\\n5\\n3057\\nMost helpful positive review\\nilstu99\\n12/31/2006\\nI had a hard time wrapping my brain around the flour + eggs, then other ingredients....so I just did what I always do....wet stuff blended, then dry stuff added to it. They have turned out great every time I have made them. A touch of sugar and vanilla makes great sweet crepes...some pepper and herbs make great veggie crepes. BOTH are great for breakfast! I almost always double or triple this recipe, and it keeps well in the fridge.\\nRead More\\nHelpful (1\\u202f579)\\nMost helpful critical review\\nBABYGIRL30S\\n02/14/2007\\nSomeone tell me what I did wrong please! I prepared the batter from the previous suggestions and it came out beautifully, no lumps, but when I put it in the well-oiled pan, it just turned into scrambled eggs! I had to throw it out! It can\\'t be the recipe because all of these reviews, so maybe it was the pan, the spatula.......I don\\'t know! Help! (SMILE)\\nRead More\\nHelpful (468)\\nSort By:\\nNewest\\nAllrecipes Member\\n02/20/2023\\nAwesome recipe I added 2 tablespoons of sugar\\nHelpful (0)\\nChristina Spoon\\n02/20/2023\\nI agree about flour+egg also. However they turned out scrumptious.\\nHelpful (0)\\nAllrecipes Member\\n02/18/2023\\nWhat in the trypophobia crepe is this\\nHelpful (0)\\nAllrecipes Member\\n02/16/2023\\nWow how easy!!!\\nHelpful (0)\\nSarah Ruthven\\n02/15/2023\\nBrilliant recipe! And we don’t have an electric whisk and these still came out fluffy whisking by hand - thank you JennyC819\\nHelpful (0)\\nsavannahbanana\\n02/12/2023\\nWritten steps don’t match the steps in the video!! I followed the written steps…whisking my eggs and flour didn’t set right with me but I figured this was a “trust the process” kind of thing….we’ll my crepes came out all lumpy…looked like they had warts on them! Don’t follow the written directions, instead watch the video\\nHelpful (0)\\nAllrecipes Member\\n02/12/2023\\nAdded vanilla…it was easy and delicious!\\nHelpful (0)\\nAllrecipes Member\\n02/05/2023\\nThis recipe does not deserve the high stars that it has. There are thousands of amazing crepe recipes out on the Internet. This is not one of them. There’s no sugar in this recipe, so fair warning : these are savory crêpes to people who are looking for a sweet breakfast or desert crêpe? This is not it. Also, the consistency isn’t right. They do not flip easily out of a crate pan and made a mess! As I fed them to my family, they commented what’s with the weird texture?! Our family is very familiar with crepes and this is the least preferred crepe recipe ever. Search further. You’ll find a better recipe.\\nRead More\\nHelpful (0)\\nAllrecipes Member\\n01/29/2023\\nI made two batches of this recipe. A savory one where I added a little chopped dill and chives to the batter. I stuffed those with shredded Swiss and one slice of ham. They were so delicious. My second batter was for my sweet crepes so I added a little confectioner sugar and vanilla extract to the batter. Those I stuffed with Nutella and strawberries. I then topped them with some additional strawberries and blueberries. I added a dollop of whipped cream and sprinkled confectioners sugar. My entire family has now asked that I add this to regular rotation. I cooked them in the tiniest bit of butter brushed on the pan instead of oil. They looked like they were from a magazine. Thank you for this recipe.\\nRead More\\nHelpful (0)\\nLOAD MORE REVIEWS\\nYou’ll Also Love\\nVegan Crêpes\\n100 Ratings\\nFrench Crêpes\\n751 Ratings\\nCrêpes\\n1,201 Ratings\\nJian Bing (Chinese Crêpes)\\n7 Ratings\\nShrimp Crêpes\\n6 Ratings\\nGood Old-Fashioned Pancakes\\n18,205 Ratings\\nBasic Mashed Potatoes\\n614 Ratings\\nGuacamole\\n7,558 Ratings\\nWaffles\\n5,193 Ratings\\nBest Brownies\\n13,537 Ratings\\nEasy Sugar Cookies\\n8,469 Ratings\\nEasy Meatloaf\\n8,900 Ratings\\nEasy Pancakes\\n1,831 Ratings\\nHomemade Dumplings\\n1,621 Ratings\\nBest Chocolate Chip Cookies\\n18,602 Ratings\\nRegular Crêpes\\n112 Ratings\\nAllrecipes\\nNEWSLETTER\\nFollow Us\\nFacebook\\nInstagram\\nPinterest\\nTikTok\\nYouTube\\nTwitter\\nFlipboard\\nDINNERS\\nMEALS\\nINGREDIENTS\\nOCCASIONS\\nCUISINES\\nKITCHEN TIPS\\nNEWS\\nFEATURES\\nAbout Us\\nContent Licensing\\nEditorial Process\\nAnti-Racism Pledge\\nPrivacy Policy\\nProduct Vetting\\nTerms of Use\\nAdvertise\\nCareers\\nContact\\nAllrecipes is part of the Dotdash Meredith publishing family.',\n",
       " 'Allrecipes\\nLog In\\nMagazine\\nNewsletter\\nSweepstakes\\nDINNERS\\nMEALS\\nINGREDIENTS\\nOCCASIONS\\nCUISINES\\nKITCHEN TIPS\\nNEWS\\nFEATURES\\nABOUT US\\nGET THE MAGAZINE\\nSOUP RECIPES\\nVEGETABLE SOUP RECIPES\\nONION SOUP RECIPES\\nFRENCH ONION SOUP RECIPES\\nRich and Simple French Onion Soup\\n4.6\\n(1,408)\\n1,080 REVIEWS\\n152 PHOTOS\\nWe have been trying French onion soup in restaurants for years, and my family and friends agree — none can compare to my recipe for taste and simplicity of preparation.\\nRecipe by Lori Levin Updated on February 14, 2023\\nSave\\nRate\\nPrint\\nShare\\nAdd Photo\\n152\\nPrep Time:\\n15 mins\\nCook Time:\\n40 mins\\nTotal Time:\\n55 mins\\nServings:\\n4\\nYield:\\n4 servings\\nJump to Nutrition Facts\\nJUMP TO RECIPE\\nThere\\'s nothing cozier than a warm bowl of freshly made French onion soup. With this top-rated recipe, you can make restaurant-worthy French onion soup in the comfort of your own kitchen. Plus, get our best ingredient tips and storage secrets.\\nDOTDASH MEREDITH FOOD STUDIOS\\nWhat Is French Onion Soup?\\nFrench onion soup, or soupe à l\\'oignon gratinée, is a classic French dish made with caramelized onions and beef stock or broth. The soup is topped with bread and cheese, then gratinéed to rich, gooey perfection. It\\'s traditionally served in a ramekin or a ceramic crock with a handle.\\n15 Easy and Impressive French Recipes You Can Make at Home\\nWhat Cheese Is Best For French Onion Soup?\\nFrench onion soup is traditionally topped with Gruyère, but other cheeses can be used. Most French onion soups are topped with three cheeses for maximum decadence.\\nThis recipe calls for Parmesan, provolone, and Swiss. Other popular choices include Fontina and mozzarella. No matter which cheeses you choose, make sure not to skimp! French onion soup should be rich and indulgent.\\nWhat Are the Best Onions For French Onion Soup?\\nFrench onion soup is traditionally made with thinly sliced yellow onions. You can also make delicious soup with red or white onions – it just depends on your flavor preferences and what you have on hand.\\nHow to Store French Onion Soup\\nTransfer the cooled soup to an airtight container, but leave out the croutons (they taste best when they\\'re fresh). Store it in the fridge for up to three or four days.\\nHow to Reheat French Onion Soup\\nTo reheat French onion soup, bring it to a boil on the stove. You can add more broiled bread and cheese if you want to go the extra mile, but you can use store-bought croutons for quick and easy results.\\nHow to Freeze French Onion Soup\\nYou can easily freeze French onion soup without the croutons: Just transfer the cooled soup to an airtight, freezer-safe container and freeze up to three months. To make things easier on your future self, you can freeze it in serving-size portions – that way, you don\\'t have to thaw and refreeze the whole batch.\\nTo thaw frozen French onion soup, simply transfer it to the fridge and allow it to defrost overnight. In a rush? You can thaw it more quickly by submerging the sealed container in cool water.\\nAllrecipes Community Tips and Praise\\n\"This was so easy...perfect for after work,\" according to one Allrecipes community member. \"I used Gruyere and Leerdhammer cheeses and they were a great complement.\"\\n\"This soup was awesome,\" raves CANADIANCHICK73. \"I served it at my dinner party. Everyone loved it and asked for the recipe. I added 2 teaspoons of Worcestershire sauce and toasted the bread. It was excellent!\"\\n\"This soup was excellent! I did use different kinds of onions(yellow, white, and red), and my husband and I couldn\\'t get enough,\" says IRED0103. \"I can\\'t wait to make it again.\"\\nEditorial contributions by Corey Williams\\nIngredients\\n½ cup unsalted butter\\n2 tablespoons olive oil\\n4 cups sliced onions\\n5 cups beef broth\\n2 tablespoons dry sherry\\n1 teaspoon dried thyme\\n1 pinch salt and pepper to taste\\n4 slices French bread\\n4 slices provolone cheese\\n2 slices Swiss cheese, diced\\n¼ cup grated Parmesan cheese\\nDirections\\nGather all ingredients.\\nDOTDASH MEREDITH FOOD STUDIOS\\nMelt butter with olive oil in an 8-quart stock pot over medium heat. Add onions to butter and continually stir until tender and translucent. Do not brown the onions.\\nDOTDASH MEREDITH FOOD STUDIOS\\nAdd beef broth, sherry, and thyme. Season with salt and pepper. Let simmer for 30 minutes.\\nDOTDASH MEREDITH FOOD STUDIOS\\nMeanwhile, preheat the oven\\'s broiler.\\nLadle soup into oven-safe serving bowls and place one slice of bread on top of each (bread may be broken into pieces if you prefer). Layer each slice of bread with a slice of provolone, 1/2 slice diced Swiss and 1 tablespoon Parmesan cheese.\\nDOTDASH MEREDITH FOOD STUDIOS\\nPlace bowls on a cookie sheet and broil in the preheated oven until cheese bubbles and browns slightly, 2 to 3 minutes.\\nDOTDASH MEREDITH FOOD STUDIOS\\nI MADE IT\\nPRINT\\nNutrition Facts (per serving)\\n586 Calories\\n44g Fat\\n28g Carbs\\n21g Protein\\nShow Full Nutrition Label\\nReviews (1\\u202f080)\\nCheck out our Community Guidelines about reviews.\\nWhat do you think of this recipe? Share your experience to help others.\\nADD RATING & REVIEW\\n4.6 out of 5\\n1408 Ratings\\n1\\n22\\n2\\n26\\n3\\n70\\n4\\n281\\n5\\n1009\\nMost helpful positive review\\nChuck Wesserling\\n06/10/2009\\nThis is very close to a recipe I have been using for the past 30 years or so. The only changes/suggestions that I would make are to add a tablespoon of Worchester Sauce and use all butter instead of the olive oil. Make sure that you saute the onions well. (Also, make sure that you slice the onions into fairly wide slices, about 1/2-3/4\" wide.) You don\\'t want them burnt, but you do want them browned. I use Campbell\\'s Double-Rich Beef Consumme and 1/4 cup of Sherry. For the cheese, I put a tablespoon of FRESH shredded Parmesan cheese on the bottom of the bowl, then ladle on the soup, then top with a large homemade crouton, then the swiss cheese, and another tablespoon of the fresh Parmesan. For the croutons, take a large wine-glass and press into a slice of thick bread to get the perfect circle for your soup bowl. Spread with butter and sprinkle with Parmesan cheese. Put in the oven at 250 for about 1/2 hour or until they are dried and crisp.\\nRead More\\nHelpful (315)\\nMost helpful critical review\\nMARY DOMAZ\\n07/15/2009\\nAs written, I can only give this a three star. It is a basic onion soup recipe that is tasty, but lacks the full-bodied flavor of great onion soup. If you do not carmalize your onions, the soup does not have the sweet flavor of a good onion soup. To carmelize you need to saute at a low heat and be very patient. It typically takes me about an hour to carmelize the 4 cups of onion. Also, cut the fat in this recipe if you are going to try it. No need to fill this recipe with about 150 grams of fat as written. Use just enough fat to keep your onions from burning.\\nRead More\\nHelpful (46)\\nSort By:\\nNewest\\nMarg Delaney\\n02/15/2023\\nsounds yummy-I will be making this for sure\\nHelpful (0)\\nDebbie Jo\\n01/30/2023\\nI cut it down for one serving by using one sliced onion, 1 c beef broth and a splash of sherry. I make my own bread, so used a thick slice of bread toasted and topped with parmesan and baby swiss (all I had on hand). Very tasty and quite satisfying!!\\nHelpful (2)\\ndrcole66\\n01/20/2023\\nThis soup is so easy and wonderful. I did carmelize the onions.\\nHelpful (0)\\nJoan Tardiff\\n01/14/2023\\nThe soup was easy to make and delicious. I don\\'t think it was necessary to use some oil with the butter, next time I will use only butter. I also added some red wine and a sprinkle of packaged onion soup. I will definitely make this soup again. Five stars!\\nHelpful (0)\\nStephanie\\n01/03/2023\\nExcellent! My family loved this soup. I followed the recipe exactly except\\nfor adding more salt.\\nHelpful (0)\\nAllrecipes Member\\n12/31/2022\\nIt is a great recipe, but I use 2 cans of beef consumme and 3 cups of chicken stock instead of beef broth, gives it a better flavor\\nHelpful (0)\\nAllrecipes Member\\n12/30/2022\\nAmazing, I made this soup as a starter for the christmas dinner. It was prepared two days before and the flavor was just great. It takes very little effort to make but gives a great result. Will defenetly repeat soon!\\nHelpful (1)\\nAllrecipes Member\\n11/08/2022\\nLiked this one. We topped it with Gruyere cheese instead and added garlic to the soup, perfect for a cold winters night. I might add a red wine reduction for a richer taste next time.\\nHelpful (1)\\nAmanda McDonald\\n10/30/2022\\nlove this recipe! Made it for my husband using my french onion soup crocks.The only change I made is that I caramelized the onions to get their best flavor. It was perfect!!\\nHelpful (0)\\nLOAD MORE REVIEWS\\nYou’ll Also Love\\nFrench Onion Soup Gratinée\\n1,835 Ratings\\nFrench Onion Soup with Homemade Beef Stock\\n10 Ratings\\nRestaurant-Style French Onion Soup\\n175 Ratings\\nBeef Short Rib French Onion Soup\\n7 Ratings\\nAmerican French Onion Soup\\n96 Ratings\\nThe Ultimate Ribeye French Onion Soup\\n3 Ratings\\nSpeedy French Onion Soup\\n5 Ratings\\nSouthern Style French Onion Soup\\n23 Ratings\\nSlow Cooker French Onion Soup\\n407 Ratings\\nFrench Onion Soup VII\\n49 Ratings\\nFrench Onion Soup VI\\n6 Ratings\\nFrench Onion Soup IX\\n19 Ratings\\nFrench Onion Soup with Celeriac\\n15 Ratings\\nHealing Cabbage Soup\\n1,793 Ratings\\nFrench Onion Dip Sandwiches (Slow Cooker)\\n34 Ratings\\nHearty Barley Turkey Soup\\n78 Ratings\\nAllrecipes\\nNEWSLETTER\\nFollow Us\\nFacebook\\nInstagram\\nPinterest\\nTikTok\\nYouTube\\nTwitter\\nFlipboard\\nDINNERS\\nMEALS\\nINGREDIENTS\\nOCCASIONS\\nCUISINES\\nKITCHEN TIPS\\nNEWS\\nFEATURES\\nAbout Us\\nContent Licensing\\nEditorial Process\\nAnti-Racism Pledge\\nPrivacy Policy\\nProduct Vetting\\nTerms of Use\\nAdvertise\\nCareers\\nContact\\nAllrecipes is part of the Dotdash Meredith publishing family.',\n",
       " 'Allrecipes\\nLog In\\nMagazine\\nNewsletter\\nSweepstakes\\nDINNERS\\nMEALS\\nINGREDIENTS\\nOCCASIONS\\nCUISINES\\nKITCHEN TIPS\\nNEWS\\nFEATURES\\nABOUT US\\nGET THE MAGAZINE\\nRECIPES\\nMAIN DISHES\\nCHICKEN\\nCHICKEN CORDON BLEU RECIPES\\nChicken Cordon Bleu\\n4.6\\n(2,676)\\n1,855 REVIEWS\\n361 PHOTOS\\nThis entree is easy and delicious! It\\'s one of my husband\\'s favorites! Try to use the largest chicken breasts you can find so you\\'ll be able to roll them easier.\\nRecipe by Jill M Updated on September 30, 2022\\nSave\\nRate\\nPrint\\nShare\\nAdd Photo\\n361\\nPrep Time:\\n10 mins\\nCook Time:\\n35 mins\\nTotal Time:\\n45 mins\\nServings:\\n4\\nYield:\\n4 servings\\nJump to Nutrition Facts\\nJUMP TO RECIPE\\nDon\\'t feel like going out tonight? You can easily make a gourmet restaurant-worthy meal in the comfort of your own kitchen with this top-rated chicken cordon bleu recipe. It\\'s impressive, delicious, and way simpler than you think.\\nALLRECIPES MAGAZINE\\nWhat Is Chicken Cordon Bleu?\\nA cordon bleu is a dish that traditionally consists of meat wrapped around cheese, then breaded and pan-fried or deep-fried. Many modern versions of the classic French recipe, such as this one, are baked.\\nClassic chicken cordon bleu is made with the following ingredients: chicken cutlets, cooked ham, Swiss cheese, bread crumbs, and simple spices. It\\'s usually topped with a rich cream sauce spiked with a hint of Dijon mustard.\\nWhat Does \\'Cordon Bleu\\' Mean?\\n\"Cordon bleu\" translates to \"blue ribbon.\" According to Larousse Gastronomique, a French food encyclopedia, the phrase dates back to medieval times when the most prestigious order a knight could earn was called the Cross of the Holy Spirit. The honor was signified by a medal that hung from a blue ribbon known as Le Cordon Bleu. Over time, the blue ribbon became a symbol of excellence. The term, meanwhile, became associated with food that meets the highest of standards or that is prepared by the most prestigious chefs.\\nHow to Make Chicken Cordon Bleu\\nThere are many ways to make chicken cordon bleu, from the traditional French method to the simple oven-baked one detailed here. You\\'ll find the full recipe below, but here\\'s a brief overview of what you can expect:\\nPrep the Chicken\\nCover the chicken cutlets with plastic wrap and pound them with a mallet to create thin, even pieces. Thoroughly season the chicken with salt and pepper.\\nAssemble and Roll\\nTop each piece of chicken with one slice of Swiss cheese and one slice of ham. Roll the chicken vertically so that the ham and cheese are contained. Secure each roll with a toothpick.\\nBread and Bake\\nArrange the chicken rolls in a prepared baking dish. Sprinkle liberally and evenly with breadcrumbs. Bake until the chicken is no longer pink, top each roll with half a slice of Swiss, and continue baking until the cheese is melted.\\nHow To Make Breadcrumbs\\nHow Long to Cook Chicken Cordon Bleu\\nThis recipe should be fully cooked after 30-35 minutes in an oven preheated to 350 degrees F. However, every oven is different — the chicken should no longer be pink and an instant-read thermometer inserted into the center should read at least 165 degrees F (74 degrees C).\\nWhat to Serve With Chicken Cordon Bleu\\nChicken cordon bleu is traditionally topped with a decadent cream sauce made with Parmesan cheese and Dijon mustard — you can improvise your own recipe or try spiking our top-rated Alfredo Sauce with a hint of Dijon.\\nLooking for some side dish inspiration? We\\'ve got you covered. Try one of these delicious ideas:\\nMascarpone Mashed Potatoes\\nEasy Garden Green Beans\\nGourmet Mushroom Risotto\\nSteamed Broccoli\\nPommes Anna with Gruyere\\nClassic Restaurant Caesar Salad\\nHow to Store Chicken Cordon Bleu\\nStore your chicken cordon bleu leftovers in an airtight container in the fridge for three to four days. Reheat in the oven instead of the microwave to avoid sogginess. About 10 minutes at 350 degrees F should do the trick.\\nHow to Freeze Chicken Cordon Bleu\\nTo freeze chicken cordon bleu, simply arrange the completely-cooled rolls on a lined baking sheet, cover, and freeze for about two hours. Transfer the now-frozen rolls to an airtight freezer bag labeled with the date. Freeze for up to four months.\\nTo thaw frozen chicken cordon bleu, transfer the container to the fridge the night before you plan to serve it. Bake the thawed rolls for about 10 minutes at 350 degrees F.\\nAllrecipes Tips and Community Praise\\n\"What a wonderful recipe,\" raves Pj kearns. \"Simple and delicious! I did use a little olive oil to roll the chicken in after it was constructed and then lightly breaded them. Works out perfectly!\"\\n\"This recipe was the first I have cooked for my family, and they just would not stop complimenting me on it,\" says one Allrecipes community member. \"Not yet being an experienced cook, I didn\\'t add any gimmicks or tricks of my own, and I found that I didn\\'t need to. A great, easy recipe!\"\\n\"Love this recipe,\" says LILYFIRE41. \"My husband declared that this was one of his favorite things I\\'ve ever made, and he stressed what a big deal that was! Great recipe to use up leftover ham. I made it with the sauce that other members recommended (cream of chicken, lemon juice & sour cream).\"\\nEditorial contributions be Corey Williams\\nIngredients\\nnonstick cooking spray\\n4 skinless, boneless chicken breast halves\\n¼ teaspoon salt\\n⅛ teaspoon ground black pepper\\n6 slices Swiss cheese\\n4 slices cooked ham\\n½ cup seasoned bread crumbs\\nDirections\\nPreheat oven to 350 degrees F (175 degrees C). Coat a 7x11-inch baking dish with nonstick cooking spray.\\nPound chicken breasts to 1/4 inch thickness.\\nSprinkle each piece of chicken on both sides with salt and pepper. Place 1 Swiss cheese slice and 1 ham slice on top of each breast. Roll up each breast, and secure with a toothpick. Place in the prepared baking dish, and sprinkle chicken evenly with bread crumbs.\\nBake in the preheated oven until chicken is no longer pink, 30 to 35 minutes.\\nRemove from the oven, and place 1/2 Swiss cheese slice on top of each breast. Return to the oven until cheese has melted, 3 to 5 minutes. Remove toothpicks and serve immediately.\\nALLRECIPES MAGAZINE\\nI MADE IT\\nPRINT\\nNutrition Facts (per serving)\\n419 Calories\\n19g Fat\\n13g Carbs\\n46g Protein\\nShow Full Nutrition Label\\nReviews (1\\u202f855)\\nCheck out our Community Guidelines about reviews.\\nWhat do you think of this recipe? Share your experience to help others.\\nADD RATING & REVIEW\\n4.6 out of 5\\n2676 Ratings\\n1\\n18\\n2\\n24\\n3\\n123\\n4\\n644\\n5\\n1867\\nMost helpful positive review\\nAnonymous\\n08/02/2002\\nI can\\'t believe this awesome recipe! My boyfriend cannot stop talking about it. I told him I was making it for dinner, and he came home early from work. Then, when he tasted it......he moaned and groaned through the entire meal. He made a comment between each and every bite. He has thanked me over and over for making this for him. I have to say, this recipe made me \\'Queen for a Day.\\' I also dipped the chicken in egg before sprinkling the bread crumbs, and I, too, added a small pat of butter on top of each of the breasts. I will definetely be making this, at least once a month. I used the \\'potatoe rounds\\' recipe from this site, for the side dish. This entire meal turned out soooooooo good. You are a goddess, Kiersten! Thank you so much. :)\\nRead More\\nHelpful (1\\u202f063)\\nMost helpful critical review\\nCyrisse125\\n07/26/2011\\nThe chicken was dry despite correct cooking time. Perhaps a light sauce could have been served with it. I would not make this a 2nd time.\\nHelpful (11)\\nSort By:\\nNewest\\nAllrecipes Member\\n02/02/2023\\nSo happy to have a low cal version of Chicken Cordon Bleu!!!!!\\nGuilt free and delicious!\\n👍\\nHelpful (0)\\nAllrecipes Member\\n01/23/2023\\npounded, rolled, egg wash and bread crumbs with the pat of butter. 400 for about 20 minutes. yummy.\\nHelpful (0)\\nHenrietta\\n01/06/2023\\nDelicious! I didn\\'t have ham on hand, but I did have deli sliced pepperoni! Interesting twist, loved it! I did not top with sliced swiss cheese, but I did top with the alfredo sauce recipe exactly as directed. So so very good! This will definitely make it into our \"dinners at home\" rotation!\\nHelpful (0)\\nKathleen Prince\\n12/12/2022\\nJust fold it in half secure with toothpicks everything inside & make a hollandaise sauce\\nHelpful (0)\\nAllrecipes Member\\n12/11/2022\\nThis is a great recipe, but I know you\\'re all looking for the sauce recipe that used to be in the comments. Super simple.\\n1 can cream of chicken\\n1/2 cup sour cream\\n1 tsp lemon juice.\\nJust mix it in a small sauce pan and then warm it up, stirring occasionally. Plate the chicken, pour on the sauce, serve. I personally put the chicken on top of a pile of white rice.\\nRead More\\nHelpful (3)\\nKswanb\\n11/15/2022\\nEveryone loved this recipe. I struggle with cooking...so I always hold my breath. My husband loved it and asked for it again. I did cook at 400 for about 25 minutes. I also used an egg bath to help the bread crumbs stick. Will definitely make again. Thank you!\\nHelpful (0)\\nAllrecipes Member\\n10/27/2022\\nGreat results with this recipe! Super easy and made just enough to make everyone happy.\\nHelpful (0)\\nAllrecipes Member\\n09/25/2022\\nTHIS RECIPE IS GREAT... WAS ALWAYS AFRAID TO TRY AND MAKE IT . BUT, IT IS SO EASY AND QUICK... THE TASTE IS FABULOUS\\nHelpful (0)\\nAllrecipes Member\\n09/01/2022\\nThis recipe was so easy and delicious! The whole family loved it. Instead of thinning out the chicken breast and rolling them I just cut them in half and made it like a sandwich. Super easy, quick, and yummy! Will be a staple recipe in my home now.\\nHelpful (0)\\nLOAD MORE REVIEWS\\nYou’ll Also Love\\nClassic Chicken Cordon Bleu\\n7,007 Ratings\\nAir Fryer Chicken Cordon Bleu\\n34 Ratings\\nEasy Baked Chicken Cordon Bleu\\n308 Ratings\\nWeeknight Chicken Cordon Bleu\\n226 Ratings\\nKeto Open-Faced Chicken Cordon Bleu\\n25 Ratings\\nDifferent Chicken Cordon Bleu\\n307 Ratings\\nCordon Bleu Rollups with Honey-Mustard Wine Sauce\\n10 Ratings\\nCordon Bleu Chicken Rolls\\n469 Ratings\\nCreamy Chicken Cordon Bleu Casserole\\n170 Ratings\\nEasy Oven-Baked Chicken Cordon Bleu\\nChicken Cordon Bleu in the Air Fryer\\n2 Ratings\\nStuffed Chicken Cordon Bleu with Prosciutto\\nTeriyaki Chicken Cordon Bleu\\n19 Ratings\\nSlow Cooker Chicken Cordon Bleu\\n425 Ratings\\nChicken Cordon Bleu Bites\\n94 Ratings\\nLoaded Butternut Squash \"Cordon Bleu\"\\n26 Ratings\\nAllrecipes\\nNEWSLETTER\\nFollow Us\\nFacebook\\nInstagram\\nPinterest\\nTikTok\\nYouTube\\nTwitter\\nFlipboard\\nDINNERS\\nMEALS\\nINGREDIENTS\\nOCCASIONS\\nCUISINES\\nKITCHEN TIPS\\nNEWS\\nFEATURES\\nAbout Us\\nContent Licensing\\nEditorial Process\\nAnti-Racism Pledge\\nPrivacy Policy\\nProduct Vetting\\nTerms of Use\\nAdvertise\\nCareers\\nContact\\nAllrecipes is part of the Dotdash Meredith publishing family.',\n",
       " 'Allrecipes\\nLog In\\nMagazine\\nNewsletter\\nSweepstakes\\nDINNERS\\nMEALS\\nINGREDIENTS\\nOCCASIONS\\nCUISINES\\nKITCHEN TIPS\\nNEWS\\nFEATURES\\nABOUT US\\nGET THE MAGAZINE\\nRECIPES\\nSIDE DISH\\nPOTATO\\nROASTED POTATO RECIPES\\nFondant Potatoes\\n4.7\\n(285)\\n243 REVIEWS\\n91 PHOTOS\\nMy fondant potatoes are oven-braised in a buttery, thyme-flavored sauce. The result of this old-school method? Golden brown potatoes with a crispy crust that remain rich and creamy on the insides. Serve this classic French side dish alongside roast chicken, beef, or fish.\\nRecipe by Chef John Updated on September 30, 2022\\nSave\\nRate\\nPrint\\nShare\\nAdd Photo\\n91\\nPrep Time:\\n15 mins\\nCook Time:\\n40 mins\\nAdditional Time:\\n10 mins\\nTotal Time:\\n1 hrs 5 mins\\nServings:\\n6\\nJump to Nutrition Facts\\nJUMP TO RECIPE\\nHave you been searching for a way to spice up your potato game? If so, this unique recipe for fondant potatoes is the one for you. In this highly rated Chef John recipe, you\\'ll have crispy (yet creamy) potatoes that look and taste incredibly fancy — but are ready to serve in a little over an hour.\\nTrust us, this will be your new favorite potato side dish!\\nDOTDASH MEREDITH FOOD STUDIOS\\nWhat Are Fondant Potatoes?\\nFondant potatoes, also called pommes de terre fondantes, is a French side dish. In this dish, potatoes are cut into cylinders, then pan-fried on both sides, then roasted in the oven in a stock and butter sauce. The result is a flavorful potato that is crispy and brown on the outside, but creamy and tender on the inside.\\nHow to Make Fondant Potatoes\\nAdmittedly, these potatoes are a little time-consuming to make — but they aren\\'t difficult. You\\'ll find the full step-by-step recipe below, but here\\'s what you can expect when making these unique potatoes:\\nCut the Potatoes\\nPeel and cut the potatoes into cylinders. Place the potato cylinders into a bowl of cold water to remove the starch.\\nPan-Fry the Potatoes\\nPan-fry the potato cylinders in vegetable oil until well-browned on both sides. Season with salt and pepper.\\nAdd the Sauce\\nAdd the butter and thyme to the skillet and cook until the butter begins to foam. Then add the stock to the skillet.\\nBake\\nTransfer the skillet to a preheated oven and cook until the potatoes are tender. Remove from the oven and spoon the thyme-butter mixture over the potatoes.\\nWhat to Serve With Fondant Potatoes\\nFondant potatoes make a great side dish for meat or seafood meals. If you need some main dish inspiration, try one of these mouthwatering options:\\nOur 15 Best Roast Chicken Recipes\\nChef John\\'s Best Steak Recipes\\nChef John\\'s Best Seafood Recipes\\nPlus, browse our entire collection of dinner recipes.\\nCan You Make Fondant Potatoes Ahead of Time?\\nSort of. You can pan-fry the potatoes ahead of time as well as baste them with butter and thyme. But you should stop after the butter begins to foam. Let the skillet cool completely, cover it, and store it in the refrigerator for up to a day.\\nWhen you\\'re ready to serve: Just add the stock and roast the potatoes in the oven as directed.\\nHow to Store Fondant Potatoes\\nFondant potatoes are best enjoyed the day-of. But, if you have leftovers, you can store them in an airtight container in the fridge for three days. Reheat them in the oven with more stock — but be prepared for less crispy and creamy potatoes.\\nCan You Freeze Fondant Potatoes\\nWe don\\'t recommend freezing fondant potatoes because they won\\'t freeze or reheat well. They\\'re best eaten the day-of.\\nAllrecipes Community Tips and Praise\\n\"Have made these twice now and can honestly say that Fondants are my favorite way to have potatoes! So many ways to tweak and adjust these to suit whatever you\\'re serving them with. Very impressive as a special side for dinner with friends and family. Almost as though someone found a way to make mashed potatoes that can hold a shape,\" according to dejavoodoo.\\n\"Love! Love! Love it! I made these potatoes two days ago, and now as we speak I am baking them. My husband said that from now on he will only eat potatoes fondant. The recipe is perfect as is, just be careful not to over salt them,\" raves julia92.\\n\"Please try this! It\\'s worth the tiny extra bit of preparation and you end up with a 5-star presentation and a wonderfully flavorful side dish. I didn\\'t have fresh thyme so I used fresh rosemary and it was stellar. We\\'ll definitely be doing this one again. A plus: the parts you trim off of the potatoes can be used for hash browns the following morning. What a great recipe,\" says Peri.\\nEditorial contributions by Bailey Fink\\nIngredients\\n3 large whole russet potatoes\\n2 tablespoons high-heat-resistant vegetable oil, such as grapeseed oil\\nsalt and ground black pepper to taste\\n3 tablespoons butter\\n4 sprigs thyme, plus more for garnish\\n½ cup chicken broth, or more as needed\\nDirections\\nPreheat the oven to 425 degrees F (220 degrees C).\\nCut off ends of russet potatoes. Stand potatoes on end, and peel them from top to bottom with a sharp knife to make each potato into a uniform cylinder. Cut each cylinder in half crosswise to make 6 potato cylinders about 2 inches long.\\nPlace potatoes into a bowl of cold water for about 5 minutes to remove starch from the outsides; pat dry with paper towels.\\nHeat vegetable oil in a heavy oven-proof skillet over high heat until it shimmers slightly.\\nPlace potato cylinders with the best-looking ends into the hot oil. Reduce heat to medium-high, and pan-fry potatoes until well-browned, 5 to 6 minutes. Season with salt and black pepper.\\nFlip potatoes and repeat on the other ends. As they cook, use a paper towel held with tongs to carefully blot out the oil from the skillet. Add butter and thyme sprigs to the skillet.\\nPick up a thyme sprig with tongs and use it to paint butter over the top of the potatoes. Cook until butter foams and foam turns from white to a pale tan color. Season with more salt and pepper. Pour chicken stock into skillet.\\nTransfer the skillet to the preheated oven and cook until potatoes are tender and creamy inside, about 30 minutes. If potatoes aren\\'t tender, add 1/4 cup more stock and cook for 10 more minutes.\\nPlace potatoes on a serving platter. Spoon thyme-scented butter remaining in skillet over potatoes. Garnish with thyme sprigs. Let cool about 5 minutes before serving.\\nDOTDASH MEREDITH FOOD STUDIOS\\nI MADE IT\\nPRINT\\nNutrition Facts (per serving)\\n239 Calories\\n11g Fat\\n34g Carbs\\n4g Protein\\nShow Full Nutrition Label\\nReviews (243)\\nCheck out our Community Guidelines about reviews.\\nWhat do you think of this recipe? Share your experience to help others.\\nADD RATING & REVIEW\\n4.7 out of 5\\n285 Ratings\\n1\\n1\\n2\\n1\\n3\\n19\\n4\\n47\\n5\\n217\\nMost helpful positive review\\nRobmics\\n07/16/2013\\nThe first time i made i did exactly what the recipe said. The next time i used Rosemary (which i prefer) instead of thyme. Tonight I toned down the salt and used some garlic salt instead, Ohh it was soooo good. I defiantly recommend these\\nHelpful (81)\\nMost helpful critical review\\nPandoraly\\n03/23/2014\\nI fear it may have been user-error, but when I made these they turned out good, but certainly not great considering the amount of work and clean-up. I went back over the instructions and believe that I did all that was required, so I\\'m not sure where I went wrong.\\nHelpful (11)\\nSort By:\\nNewest\\nSHARON B.\\n01/25/2023\\nLoved the way these turned out. Grabbed some thyme from the garden and made them as directed. They garnered a thumbs up from my son who is not really a potato lover, so I\\'ll definitely be doing them again, probably with rosemary next time.\\nAfter having made these, I thought it might be a good idea to use a peeler to remove the peel and then do the cutting. The cuttings could then be used for mashed potatoes or fried potatoes and there would be very little waste.\\nHelpful (0)\\nKim K\\n01/20/2023\\nThe crispy outside was good, but the inside was a big chunk of bland potato. Next time I am going to try quartering (instead of halving) the potatoes so there is less potato in the middle.\\nHelpful (0)\\nWeirdAuntMartha\\n11/10/2022\\nPretty good, but probably more time consuming than they\\'re worth! Also, so much waste. I wasn\\'t going to make these until I saw another reviewer say they peeled them first so they could use the scraps, that convinced me to do the same. This morning, I shredded the scraps and made amazing hash browns!\\nHelpful (0)\\nDHG\\n09/30/2022\\nGreat, super easy. I peeled potatoes first, then cut/trimmed so I could use the peeled scraps. These are worthy of an elegant dinner party. I also used these recipe with sweet potatoes. Omit the chicken broth, reduce then cook time in oven, add nutmeg and brown sugar - keep the butter. Yum 😋 Heavenly!\\nHelpful (0)\\nAllrecipes Member\\n04/29/2022\\nI used lemon thyme and homemade chicken stock and these turned out BEAUTIFULLY!\\nHelpful (0)\\nLindsy bee\\n04/19/2022\\nThis is one of the best potato recipes I\\'ve tried in years. They taste like a French fries on the outside and soft and creamy on the inside. The chicken stock, butter and thyme cooks down to a concentrated, sticky sauce that is full of flavor. One of the few times the whole family raved about dinner.\\nHelpful (0)\\nAllrecipes Member\\n04/18/2022\\nDefinitely an upgrade from basic roasted \\'taters. We will make them again and have some fun with seasoning. A fun cooking method for sure!\\nHelpful (0)\\nBob\\n04/08/2022\\nGreat every time\\nHelpful (0)\\nNette686\\n04/07/2022\\nThe potatoes are so soft inside with the crunch outside. Have served these to friends who asked for the recipe so they could make them at home. They are elegant without all the fuss! I have varied the herbs depending on what I have fresh or if nothing fresh, what I have dried. Still works beautifully.\\nHelpful (0)\\nLOAD MORE REVIEWS\\nYou’ll Also Love\\nSour Cream Mashed Potatoes\\n4 Ratings\\nTikTok Parmesan-Crusted Roasted Potatoes\\n12 Ratings\\nRoasted Lemon Pepper Potatoes\\n80 Ratings\\nParisian Potatoes\\n1 Rating\\nHasselback Potatoes\\n492 Ratings\\nRoasted Potatoes with Bacon, Cheese, and Parsley\\n9 Ratings\\nScalloped Potatoes\\n622 Ratings\\nBasic Mashed Potatoes\\n614 Ratings\\nMicrowave Baked Potato\\n391 Ratings\\nPerfect Baked Potato\\n884 Ratings\\n35 Ways to Use Yukon Gold Potatoes\\nChimichurri Roasted Potatoes\\n2 Ratings\\nGochujang-Roasted Potatoes\\n7 Ratings\\nEasy Roasted Potatoes\\n40 Ratings\\nOven Roasted Potatoes\\n1,677 Ratings\\nCreamy au Gratin Potatoes\\n5,918 Ratings\\nAllrecipes\\nNEWSLETTER\\nFollow Us\\nFacebook\\nInstagram\\nPinterest\\nTikTok\\nYouTube\\nTwitter\\nFlipboard\\nDINNERS\\nMEALS\\nINGREDIENTS\\nOCCASIONS\\nCUISINES\\nKITCHEN TIPS\\nNEWS\\nFEATURES\\nAbout Us\\nContent Licensing\\nEditorial Process\\nAnti-Racism Pledge\\nPrivacy Policy\\nProduct Vetting\\nTerms of Use\\nAdvertise\\nCareers\\nContact\\nAllrecipes is part of the Dotdash Meredith publishing family.',\n",
       " 'Allrecipes\\nLog In\\nMagazine\\nNewsletter\\nSweepstakes\\nDINNERS\\nMEALS\\nINGREDIENTS\\nOCCASIONS\\nCUISINES\\nKITCHEN TIPS\\nNEWS\\nFEATURES\\nABOUT US\\nGET THE MAGAZINE\\nRECIPES\\nBREAKFAST AND BRUNCH\\nCREPES\\nSWEET\\nFrench Crêpes\\n4.6\\n(751)\\n545 REVIEWS\\n147 PHOTOS\\nFrench crêpes are good for weekend breakfasts, or even for desserts. Serve rolled up and filled with jam or fruit and whipped cream.\\nRecipe by CYBERCHEF Updated on September 22, 2022\\nSave\\nRate\\nPrint\\nShare\\nAdd Photo\\n147\\nPrep Time:\\n5 mins\\nCook Time:\\n25 mins\\nTotal Time:\\n30 mins\\nServings:\\n12\\nYield:\\n12 crêpes\\nJump to Nutrition Facts\\nIngredients\\n1 cup all-purpose flour\\n1 teaspoon white sugar\\n¼ teaspoon salt\\n3 eggs\\n2 cups milk\\n2 tablespoons butter, melted\\nDirections\\nSift flour, sugar, and salt into a bowl; set aside. Beat eggs and milk together in a large bowl with an electric mixer. Beat in flour mixture until smooth; stir in melted butter.\\nLightly grease a griddle or frying pan; heat over medium-high heat.\\nPour or scoop the batter onto the griddle, using approximately 2 tablespoons for each crêpe. Immediately rotate the skillet to spread batter out in a thin layer. Cook until the top of the crêpe is no longer wet and the bottom has turned light brown, 1 to 2 minutes. Shake the pan or loosen with a spatula; turn or flip it over and cook until other side has turned light brown, about 1 minute more. Repeat with remaining batter.\\nCHE FRANCISCO\\nI MADE IT\\nPRINT\\nNutrition Facts (per serving)\\n94 Calories\\n4g Fat\\n10g Carbs\\n4g Protein\\nShow Full Nutrition Label\\nReviews (545)\\nCheck out our Community Guidelines about reviews.\\nWhat do you think of this recipe? Share your experience to help others.\\nADD RATING & REVIEW\\n4.6 out of 5\\n751 Ratings\\n1\\n24\\n2\\n13\\n3\\n18\\n4\\n127\\n5\\n569\\nMost helpful positive review\\nAnonymous\\n04/02/2004\\nAlthough this is not the simpliest of recipes, it definately the best so far. I served it to my wife without anything topping on it all, and she loved it. That was the proof that I was looking for in a good crepe. I believe the added eggs and the use of butter makes all the differnce. Be sure to follow the instructions and your will not be disappointed.\\nRead More\\nHelpful (396)\\nMost helpful critical review\\ncoco\\n10/06/2007\\nI have made many crepes with many different recipes and this one didn\\'t work - the porportions were wrong\\nHelpful (58)\\nSort By:\\nNewest\\nAllrecipes Member\\n02/05/2023\\nThey came out deliciously. I put homemade whipped cream in them with some raspberries. Might anyone know if how to tweak this and make a version without eggs since---as of right now--- eggs where I\\'m at are a bit too pricey?\\nHelpful (1)\\nAllrecipes Member\\n01/06/2023\\nThis recipe was as close as I could find to the recipe I remembered my French friend using and showing me years ago. She was a true french cook: threw everything in a bowl without measuring cups, just \"about a cup of this, a couple eggs, cup and a half or so of milk, maybe some water, shake of salt, a little sugar...\". My way of cooking for sure. This recipe came out quite close to what I remember her crepes being. I put in some vanilla to jazz it up, and used my biggest pan to twirl on. I would have liked to have gotten them a bit thinner, but next time I\\'ll know. Very good and authentic crepes--thank you.\\nRead More\\nHelpful (1)\\nMelissa P.\\n09/06/2022\\nThe video showed what appeared to be vanilla, but there is no mention of vanilla extract in the ingredients. Otherwise this recipe is very close to the one I\\'ve used for years (I\\'ve used 1 tsp extract - vanilla, almond, etc. depending upon filling).\\nHelpful (0)\\nSilvia\\n09/04/2022\\nLove it and totally recommend it. Delicious and less greasy. This is a keeper. Nutella in the inside and for decoration and lots of fruit(it feels like I’m eating healthy). Thank you so much.💕\\nHelpful (0)\\nAllrecipes Member\\n09/03/2022\\nThis is basically how I was taught by my mom to make crepes and she learned from my dads mom. They are from the island of Guernsey in the English Channel nut my dads side was French. The only thing different is my mom taught me the crepes had to be thinner than pictured, lacy like doilies. My grandma and mom always made alot of them. They were eaten with my grandmas recipe for French beef stew and doughboys (big round lumpy flour dumplings that were put in the stew. The plumped upon there and also helped thicken the stew.) Then with the remaining that weren’t used for dinner were used for dessert. My mom love butter and sprinkled sugar on hers I like raspberry preserves on mine. This gets made when ever I go to my kids homes to see my kids and grandkids. 1st request for me to make. Michelle (Barbe’) Fischer.\\nRead More\\nHelpful (0)\\nAllrecipes Member\\n07/05/2022\\nLove it ❤️ very simple. I used 2 non-stick pans to save time and didn\\'t use any extra oil as butter was mixed in ingredients. Medium heat was perfect. I used 1/4 cup for each crepe and quickly angle the frying pan to have the flower mix spreading and even out the whole pan. Photo was my French crepes breakfast, filled with fresh picked strawberries, homemade strawberries jam/syrup and PC chocolate syrup. YUMMY\\nHelpful (0)\\nAllrecipes Member\\n04/14/2022\\nThis recipe was ridiculously rubbish. DO NOT MAKE. Looked like scrambled eggs. Didn\\'t brown at all. Too much milk . I would give it 0 stars if possible.\\nHelpful (0)\\nBob King\\n03/08/2022\\nI have made these twice. The first time, I piped sweet whipped cream into and onto them. The second time I filled them with buttery Carrboro rice and long grain white rice together and served on top of Philadelphia cream cheese and a bit of Smucker\\'s marmalade to make a somewhat sweet, somewhat savory treat.\\nHelpful (0)\\nCarlene Pelletier\\n03/06/2022\\nIve been eating crepes all my life. I must say this is the best recipe. They came out so good! Perfect texture !\\nHelpful (0)\\nLOAD MORE REVIEWS\\nYou’ll Also Love\\nBasic Crêpes\\n4,078 Ratings\\nEasy Savory Crêpes\\n19 Ratings\\nEasy 4-Ingredient Low-Carb Keto Wraps\\n3 Ratings\\nDessert Crepes with Raspberry Sorbet\\n1 Rating\\nBlinis\\n1 Rating\\nRegular Crêpes\\n112 Ratings\\nPerfect Gluten-Free Crepes\\n4 Ratings\\nSourdough Crêpes\\n5 Ratings\\nCrab Crêpes\\n6 Ratings\\nCrêpes Suzette\\n2 Ratings\\nBánh Xèo (Vietnamese Crêpes)\\n4 Ratings\\nFluffy Swedish Pancakes\\n115 Ratings\\nClaire\\'s Yummy Crepes\\n154 Ratings\\nChocolate-Raspberry Crepes\\n1 Rating\\nBreakfast Crepes\\n195 Ratings\\nCreamy Strawberry Crepes\\n382 Ratings\\nAllrecipes\\nNEWSLETTER\\nFollow Us\\nFacebook\\nInstagram\\nPinterest\\nTikTok\\nYouTube\\nTwitter\\nFlipboard\\nDINNERS\\nMEALS\\nINGREDIENTS\\nOCCASIONS\\nCUISINES\\nKITCHEN TIPS\\nNEWS\\nFEATURES\\nAbout Us\\nContent Licensing\\nEditorial Process\\nAnti-Racism Pledge\\nPrivacy Policy\\nProduct Vetting\\nTerms of Use\\nAdvertise\\nCareers\\nContact\\nAllrecipes is part of the Dotdash Meredith publishing family.',\n",
       " 'Allrecipes\\nLog In\\nMagazine\\nNewsletter\\nSweepstakes\\nDINNERS\\nMEALS\\nINGREDIENTS\\nOCCASIONS\\nCUISINES\\nKITCHEN TIPS\\nNEWS\\nFEATURES\\nABOUT US\\nGET THE MAGAZINE\\nRECIPES\\nMAIN DISHES\\nSEAFOOD MAIN DISHES\\nLOBSTER\\nLobster Thermidor\\n4.6\\n(47)\\n35 REVIEWS\\n17 PHOTOS\\nThis stunning lobster Thermidor is surprisingly simple to make. Lobster shells are stuffed with cooked lobster in a creamy white wine sauce, then topped with Parmesan cheese and broiled until golden.\\nRecipe by Robyn Edge Updated on January 25, 2023\\nSave\\nRate\\nPrint\\nShare\\nAdd Photo\\n17\\nPrep Time:\\n30 mins\\nCook Time:\\n10 mins\\nTotal Time:\\n40 mins\\nServings:\\n2\\nJump to Nutrition Facts\\nJUMP TO RECIPE\\nRestaurant-worthy lobster thermidor is easier to make than you think. This top-rated lobster thermidor recipe, topped with a flavorful wine-cream sauce and sprinkled with Parmesan cheese, is perfect for any special occasion!\\nWhat Is Lobster Thermidor?\\nLobster thermidor is a French dish consisting of diced lobster meat stuffed into a lobster shell, topped with a buttery wine sauce, sprinkled with cheese, and broiled. The iconic dish gets its name from a popular 1891 play called Thermidor by Victorien Sardou.\\nHow to Make Lobster Thermidor\\nYou\\'ll find the full, step-by-step recipe below — but here\\'s a brief overview of what you can expect when you make lobster thermidor at home:\\n1. Stuff the lobsters: Cut the lobsters in half and remove the meat. Cut the meat into pieces, then return them to the shells.\\n2. Make the sauce: Cook the shallots in butter, then add the wine and cream. Bring to a boil, cook until reduced, and add the remaining ingredients (besides the cheese).\\n3. Assemble and broil: Spoon the sauce over the stuffed lobsters and sprinkle with cheese. Broil the lobsters until the cheese is golden brown.\\nWhat to Serve With Lobster Thermidor\\nLooking for serving ideas for lobster thermidor? Explore our collection of Lobster Side Dishes for delicious inspiration. Here\\'s a preview of what you\\'ll find:\\n· Quick Cheddar Garlic Biscuits\\n· Mushroom Risotto\\n· Caesar Salad Supreme\\nCan You Make Lobster Thermidor Ahead of Time?\\nIt\\'s best to cook lobster thermidor right before you plan to serve it. However, you can prep it a day or two in advance! Simply stuff the lobster and spoon the sauce over them. About 10 minutes before you plan to eat, sprinkle the lobsters with Parmesan and cook them according to the recipe.\\nAllrecipes Community Tips and Praise\\n\"I made this for my wife on Valentine\\'s Day,\" says Michael Thompson. \"It turned out really well. I paired this with seared scallops and a small salad.\"\\n\"Impressive looking dish for guests,\" according to one Allrecipes community member.\"Like another reviewer said, you can prep it ahead of time and then just pop it in the oven when the guests have arrived. Do not skip the tarragon or the sprinkle of cayenne to bring the flavors over the top!\"\\n\"This recipe was amazing,\" raves Sara James. \"We didn\\'t have the cognac or brandy but it was great without it. A huge hit for a very special occasion. It is going into the rotation for our indulgent dinners.\"\\nEditorial contributions by Corey Williams\\nIngredients\\n1 medium (1 1/2 pound) cooked lobster\\n2 tablespoons butter\\n1 shallot, finely chopped\\n1 ⅜ cups fresh fish stock\\n¼ cup white wine\\n¼ cup heavy cream\\n½ teaspoon hot English mustard\\n2 tablespoons chopped fresh parsley\\n1 tablespoon fresh lemon juice\\nsalt and freshly ground black pepper to taste\\n¼ cup freshly grated Parmesan cheese\\nDirections\\nCut lobster in half lengthwise, and remove any meat from the claws, tail, and head. Cut meat into pieces and place back into the shells.\\nMelt butter in a large skillet over medium heat. Add shallot; cook and stir until tender. Mix in fish stock, white wine, and cream. Bring to a boil, and cook until reduced by half. Mix in parsley, lemon juice, mustard, salt, and pepper.\\nPreheat your oven\\'s broiler.\\nPlace stuffed lobster halves on a broiling pan or baking sheet. Spoon sauce over the meat and sprinkle with Parmesan cheese.\\nBroil in the preheated oven until just golden brown, 3 to 4 minutes. Serve immediately.\\nI MADE IT\\nPRINT\\nNutrition Facts (per serving)\\n653 Calories\\n28g Fat\\n14g Carbs\\n77g Protein\\nShow Full Nutrition Label\\nReviews (35)\\nCheck out our Community Guidelines about reviews.\\nWhat do you think of this recipe? Share your experience to help others.\\nADD RATING & REVIEW\\n4.6 out of 5\\n47 Ratings\\n1\\n0\\n2\\n0\\n3\\n1\\n4\\n17\\n5\\n29\\nMost helpful positive review\\nCJ\\n01/01/2010\\nThis recipe is much easier than Julia Child\\'s complicated but AMAZING recipe. Taking the best ideas from both, make this recipe but add 1 tablespoon of dried or fresh tarragon to the sauce. Instead of fish stock, boil the lobsters in 2 cups white wine, 2 cups water, sliced onion, 1 carrot and 1 celery stalk. This is a dramatic dish that can be made ahead of time, popped in the oven for browning, sure to impress your guests!\\nRead More\\nHelpful (88)\\nMost helpful critical review\\nElena\\n05/10/2006\\nI was somewhat disappointed in this recipe for Lobster Thermidor. I made it exactly as instructed. The sauce was too thin and not rich tasting enough and had too much wine and/or lemon in it. If I make it again I would add more cream, less wine and lemon and would thicken it up with a little cornstarch.\\nRead More\\nHelpful (87)\\nSort By:\\nNewest\\nDagrah\\n12/16/2022\\nI love this dish. My stepmom used to make it for me for my birthday every year. I always look for it on the menu in good seafood restaurants.\\nThis recipe is the same as my stepmoms and very well worth the effort.\\nHelpful (0)\\nAllrecipes Member\\n07/10/2022\\nI ate every bite…\\nHelpful (0)\\nAllrecipes Member\\n03/28/2022\\nGreat recipe, needed thickening, used corn flour.\\nOmitted wine used brandy instead. I will next time use the liquid from the steamed crayfish/lobster in the sauce instead of some of the fish stock.\\nHelpful (0)\\nbroken-grasshopper\\n02/04/2022\\nI thought this was a great recipe. Taste is excellent. The first time I made it I found the sauce to be way too thin. I reduced it a lot but still way too thin. The next time I made it, before I added the shallots I added 2tbs flour to the butter and made a rue similar to how you would start bechamel sauce. If you add the following liquids slowly, keep stirring constantly with a whisk so as not to get flour lumps and let the rue take up the liquids slowly you finish up with a much better result. I believe the flour has simply been omitted when the recipe was created. Good luck!\\nRead More\\nHelpful (0)\\nRegina Anderson\\n03/07/2021\\nIt was very delicious. My husband was extremely surprised at how good it came out, especially because I had never had lobster therimor before. I will certainly make it again.\\nHelpful (0)\\nGnatthenat\\n08/31/2020\\nHello! This recipe was pretty easy, and took about 45 minuets to prepare. Forgot to gather Whipping cream, so we used 3 table spoons of melted butter and 1/3 cup of milk as a sub. Also could not get fish stock, so we used (as recommended by the fish guy at the counter) vegetable broth and about 2 teaspoons of tai fish sauce mixed together. The sauce, after being cooked, was DELICIOUS! Overall it was a flattering dish!\\nHelpful (0)\\nBenjamin Hawkins\\n02/18/2018\\nGreat recipe, easy to fallow ritualized sacrifice of a lobster. We skipped the \"Hot English Mustard\" and instead used standard dried mustard powder. The dish tasted great. It was served over a bed of angel-hair noodles.\\nHelpful (0)\\nYaMi\\n12/30/2017\\nThanks to Exceluk. This is gourmet seafood. Love it, cooks well with frozen lobster tail.\\nHelpful (0)\\nJack Downes\\n06/28/2017\\ndelicious. like all baked lobster, this is better and easier with bigger lobster. I used a 5 lb critter. I also subbed rum for wine, onion (and garlic) for shallot, milk for cream (about a cup or more). I topped it with a TON of gouda.\\nHelpful (0)\\nLOAD MORE REVIEWS\\nYou’ll Also Love\\nChef John\\'s Lobster Thermidor\\n77 Ratings\\nBroiled Lobster Tails\\n475 Ratings\\nLobster Risotto\\n18 Ratings\\nLobster Mac and Cheese\\n85 Ratings\\nChef John\\'s Lobster Mac and Cheese\\n83 Ratings\\nCrawfish Thermidor\\n16 Ratings\\nLobster Mashed Potatoes\\n6 Ratings\\nBaked Chicken Thermidor\\n14 Ratings\\nLobster Ravioli\\nRed Lobster Cheddar Biscuits\\n204 Ratings\\nHeavenly Halibut\\n1,126 Ratings\\nStuffed Shells\\n1,210 Ratings\\nLobster Tenderloin\\n7 Ratings\\nWorld\\'s Best Lasagna\\n19,956 Ratings\\nCornish Game Hens with Garlic and Rosemary\\n1,198 Ratings\\nGarlic Shrimp Linguine\\n951 Ratings\\nAllrecipes\\nNEWSLETTER\\nFollow Us\\nFacebook\\nInstagram\\nPinterest\\nTikTok\\nYouTube\\nTwitter\\nFlipboard\\nDINNERS\\nMEALS\\nINGREDIENTS\\nOCCASIONS\\nCUISINES\\nKITCHEN TIPS\\nNEWS\\nFEATURES\\nAbout Us\\nContent Licensing\\nEditorial Process\\nAnti-Racism Pledge\\nPrivacy Policy\\nProduct Vetting\\nTerms of Use\\nAdvertise\\nCareers\\nContact\\nAllrecipes is part of the Dotdash Meredith publishing family.',\n",
       " 'Allrecipes\\nLog In\\nMagazine\\nNewsletter\\nSweepstakes\\nDINNERS\\nMEALS\\nINGREDIENTS\\nOCCASIONS\\nCUISINES\\nKITCHEN TIPS\\nNEWS\\nFEATURES\\nABOUT US\\nGET THE MAGAZINE\\nRECIPES\\nDESSERTS\\nCAKES\\nCAKE ROLL RECIPES\\nBuche de Noel\\n4.7\\n(428)\\n341 REVIEWS\\n263 PHOTOS\\nBuche de Noel is the French name for a Christmas cake shaped like a log. This one is a heavenly flourless chocolate cake rolled with chocolate whipped cream and decorated with confectioners\\' sugar to resemble snow on a yule log. It doesn\\'t just look beautiful — it tastes wonderful, too!\\nRecipe by TYRARACHELE Updated on February 13, 2023\\nSave\\nRate\\nPrint\\nShare\\nAdd Photo\\n263\\nPrep Time:\\n45 mins\\nCook Time:\\n15 mins\\nAdditional Time:\\n30 mins\\nTotal Time:\\n1 hrs 30 mins\\nServings:\\n12\\nYield:\\n1 buche de noel\\nJump to Nutrition Facts\\nJUMP TO RECIPE\\nAre you in need of a show-stopping dessert centerpiece for your holiday table? Let us introduce you to the bûche de Noël. This yule log cake looks and tastes incredibly impressive, so your guests will think you spent all day in the kitchen — but really, this cake is ready in just an hour and a half. (Don\\'t worry, we won\\'t tell).\\nDOTDASH MEREDITH FOOD STUDIOS\\nWhat Is a Bûche de Noël?\\nA bûche de Noël is a sponge cake that is typically served around Christmastime. It\\'s believed to have originated in France during the 19th century.\\nThe cake is filled with frosting and rolled to look like a log. It can also be decorated with frosting to make it more log-like or a simple dusting of confectioners\\' sugar to resemble snow on a log.\\nWhat is the Tradition of Bûche de Noël?\\nThe bûche de Noël is meant to symbolize the yule log, which families burned on Christmas Eve. The yule log represents the new year to come and is said to bring the family good luck.\\nHow to Pronounce Bûche de Noël\\nThis dessert\\'s name is pronounced \"BOO-sh de No-elle.\"\\nWhat Does Bûche de Noël Mean?\\nBûche de Noël literally translates to \"log of Christmas.\"\\nHow to Make Bûche de Noël\\nThis cake may seem intimidating, but it\\'s just like any other Swiss roll. You\\'ll find the full, step-by-step recipe and instructions below — but here\\'s what you can expect when you make this bûche de Noël:\\nMake the Chocolate Whipped Cream\\nWhip the cream, confectioners\\' sugar, cocoa, and vanilla until peaks form. Refrigerate until ready to use.\\nMake the Cake Batter\\nBeat the egg yolks and sugar until the yolks are pale. Add the cocoa powder, vanilla, and salt. In a separate bowl, whip egg yolks until soft peaks form, then add the sugar and beat until stiff peaks form. Fold the yolk mixture into the egg white mixture. Spread the batter onto a parchment-lined jelly roll pan.\\nBake and Roll\\nBake until the cake springs back when touched, then turn it out on a confectioners\\' sugar-coated dish towel. Roll the cake up with the towel and let it cool for 30 minutes.\\nFill the Cake\\nUnroll the cooled cake and fill it with chocolate whipped cream. Roll it back up and refrigerate. Dust with confectioners\\' sugar or decorate the cake before serving.\\nLearn more: How to Make Bûche de Noël With Smart Cookie\\nHow to Decorate Bûche de Noël\\nThis recipe calls for a simple dusting of confectioners\\' sugar over the yule log cake, but you can decorate your bûche de Noël more elaborately if you like. Try icing the cake with chocolate ganache for a more log-like appearance. You can also garnish the cake with chocolate curls, candied cranberries, rosemary, and marzipan shapes (like mushrooms).\\nHow to Store Bûche de Noël\\nStore bûche de Noël covered in the fridge until you\\'re ready to serve. It will stay fresh for up to five days.\\nCan You Freeze Bûche de Noël?\\nYes, bûche de Noël can be made ahead of time and frozen. Wrap the completely cooled cake (without the confectioners\\' sugar or other decorations) in a layer of storage wrap then a layer of aluminum foil. Freeze for up to three months. Defrost in the fridge overnight, then decorate as desired.\\nAllrecipes Community Tips and Praise\\n\"Made this for our Christmas dinner. It turned out perfectly. I garnished it with the Meringue Mushrooms. We used to buy it from the local French patisserie for $35. Won\\'t have to do that again,\" says Elizabeth Bobe.\\n\"I found this recipe at least 5 years ago & I have made it every Christmas since. It\\'s delicious. I buy fondant and make the mushrooms, & holly leaves & berries. It has become a tradition to make this cake. It also has no flour which is great for my daughter-in-law who is gluten free. I highly recommend this cake,\" according to Martina916.\\n\"Best bûche de Noël recipe I have ever tasted or made. The cake is light and tasty and the mousse-like filling is very good,\" raves love2cook. \"I also added a chocolate frosting that I have put on my bûche de Noëls in the past that was very chocolatey and made it even more tasty and beautiful. These things are usually prettier than they are tasty, but this one was the exception.\"\\nEditorial contributions by Bailey Fink\\nIngredients\\n2 cups heavy cream\\n½ cup confectioners\\' sugar\\n½ cup unsweetened cocoa powder\\n1 teaspoon vanilla extract\\n6 egg yolks\\n½ cup white sugar\\n⅓ cup unsweetened cocoa powder\\n1 ½ teaspoons vanilla extract\\n⅛ teaspoon salt\\n6 egg whites\\n¼ cup white sugar\\nconfectioners\\' sugar for dusting\\nDirections\\nPreheat oven to 375 degrees F (190 degrees C). Line a 10x15 inch jellyroll pan with parchment paper. In a large bowl, whip cream, 1/2 cup confectioners\\' sugar, 1/2 cup cocoa, and 1 teaspoon vanilla until thick and stiff. Refrigerate.\\nDOTDASH MEREDITH FOOD STUDIOS\\nIn a large bowl, use an electric mixer to beat egg yolks with 1/2 cup sugar until pale in color, light and frothy. Blend in 1/3 cup cocoa, 1 1/2 teaspoons vanilla, and salt.\\nDOTDASH MEREDITH FOOD STUDIOS\\nIn large glass bowl, using clean beaters, whip egg whites to soft peaks. Gradually add 1/4 cup sugar, and beat until whites form stiff peaks.\\nDOTDASH MEREDITH FOOD STUDIOS\\nImmediately fold the yolk mixture into the whites.\\nDOTDASH MEREDITH FOOD STUDIOS\\nDOTDASH MEREDITH FOOD STUDIOS\\nSpread the batter evenly into the prepared pan.\\nDOTDASH MEREDITH FOOD STUDIOS\\nBake for 12 to 15 minutes in the preheated oven, or until the cake springs back when lightly touched.\\nDust a clean dishtowel with confectioners\\' sugar. Run a knife around the edge of the pan, and turn the warm cake out onto the towel. Remove and discard parchment paper.\\nDOTDASH MEREDITH FOOD STUDIOS\\nStarting at the short edge of the cake, roll the cake up with the towel. Cool for 30 minutes.\\nDOTDASH MEREDITH FOOD STUDIOS\\nUnroll the cake, and spread the filling to within 1 inch of the edge.\\nDOTDASH MEREDITH FOOD STUDIOS\\nRoll the cake up with the filling inside. Place seam side down onto a serving plate, and refrigerate until serving.\\nDOTDASH MEREDITH FOOD STUDIOS\\nTips\\nThe magazine version of this recipe uses 1/3 cup powdered sugar and 1/4 cup cocoa powder in the filling.\\nI MADE IT\\nPRINT\\nNutrition Facts (per serving)\\n276 Calories\\n18g Fat\\n28g Carbs\\n5g Protein\\nShow Full Nutrition Label\\nReviews (341)\\nCheck out our Community Guidelines about reviews.\\nWhat do you think of this recipe? Share your experience to help others.\\nADD RATING & REVIEW\\n4.7 out of 5\\n428 Ratings\\n1\\n8\\n2\\n9\\n3\\n10\\n4\\n69\\n5\\n332\\nMost helpful positive review\\nAnonymous\\n12/27/2004\\nThis cake received applause at our Christmas dinner. And, it should have. After all, my mother and I had to make it twice. Let me explain. You MUST BEAT the egg yolks and sugar until they are very pale. For all of you Texas Aggies out there, BTHO the egg yolks. Let the electric mixer run at the highest speed for at least 5 minutes. Because this cake contains no rising agents like baking powder or yeast, its \"fluffy-ness\" depends upon the amount of air that you \"BEAT\" into it - hence the stiff egg whites and the pulverized egg yolks. We decorated the cake with whipping cream and homemade mushrooms (hershey kisses and small marshmallows on toothpicks - with red gel polka dots).\\nRead More\\nHelpful (251)\\nMost helpful critical review\\nHelena\\n12/19/2002\\nLike a chocolate omelete with whipped cream. This recipe was identical to a recipe in one of my cook books except the flour was missing in this one....wanted to try with all the good reviews...But this was NOT what I hoped.\\nHelpful (50)\\nSort By:\\nNewest\\nKaren Abler\\n12/29/2022\\nI had never made a Buche de Noel before, and this was pretty tasty! For me, it was too much dark chocolate, but my husband and a few others who are chocolate fanatics just loved it, so it was a success at Christmas! I used some Rosemary sprigs along the \"logs\" (I made 2) as a decoration and it looked very festive. I felt they stuck to the parchment paper, and it did not turn out even like the video. I have made other rolls before (pumpkin roll), and it\\'s always turned out even. The eggs seemed to make it rise out of control! When it settled back down, it was better, but not even all over. I will try this again, because it\\'s challenging and tasted very good!\\nRead More\\nHelpful (0)\\nDavid Pelletier\\n12/25/2022\\nFirst time making a log cake. My cake did not rise as thick as the video. Not sure what I would do differently. As a result I had way too much filling but in the end it was a yummy mess!\\nHelpful (0)\\nMary Jo Stoneberg\\n12/24/2022\\nI wont be making this again. Like fluff air no flavor\\nHelpful (0)\\nAllrecipes Member\\n12/24/2022\\nThis is less of a cake and more of a thin piece of bread covered in pudding. I\\'ve made many Yule Logs throughout the years using different recipes, but I will not be using this one again. The cake itself is incredibly thin, with little flavor, and the filling far too runny. It\\'s still servable, but I definitely wouldn\\'t recommend it.\\nNot trying to make this review overly harsh, but let me put it this way- in my almost ten years of being an avid baker, this is the first time I\\'ve been compelled to write a bad review.\\nRead More\\nHelpful (0)\\nAllrecipes Member\\n12/03/2022\\nI tried this for a gluten free friend and made a flour one for the rest of us…hands down this is THE BEST I’ve ever made. So much so that we are invited to a holiday party each year with the caveat that I have to bring this.\\nHelpful (0)\\nmimo arid\\n09/14/2022\\nI love it this the best recipe for Bûche de Noêl\\nHelpful (0)\\nAllrecipes Member\\n01/05/2022\\nThis tasted wonderful! My nieces gobbled it right up! I did have problems with the cake cracking and my fingers gouged the cake while I was transferring it to a platter. Not sure what the cure for this is but I was able to roll the imperfections to the bottom/sides and then I sprinkled the top with shaved chocolate and powdered sugar. No one was the wiser and it looked beautiful plated and of course tasted wonderful - not too sweet. Next time, I will try baking it longer (the center was very poufed), and possibly letting it cool a bit longer before inverting. Another option is to roll it loosely instead. I rolled it kind of tight and immediately after taking it from the oven.\\nRead More\\nHelpful (0)\\nkvt818\\n12/31/2021\\nI made the buche with 1 less yolk (6 egg whites + 5 yolks), added 1 tbsp of organic tapioca flour for a softer, easier to roll/unroll/ re-roll cake. Also substituted the sugar with 1/4 cup full monk fruit sweetener. Made and served partly on Christmas day, still soft and yummy 5 days later.\\nHelpful (0)\\nLucinda Alucia Cloutier\\n12/27/2021\\nThis is now my go to holiday cake! Rich and creamy, it was loved by all!\\nHelpful (0)\\nLOAD MORE REVIEWS\\nYou’ll Also Love\\nChocolate Yule Log\\n116 Ratings\\nClassic Yule Log\\n11 Ratings\\nChocolate Decadence Yule Log\\n80 Ratings\\nYule Log Cake\\nChocolate-Banana Cake Roll\\n6 Ratings\\n7 Impressive Yule Log Recipes for Christmas\\n23 Disney Christmas Treats You Can Make at Home\\nHow to Make Bûche de Noël With Smart Cookie\\nChocolate Swiss Roll\\n6 Ratings\\nChocolate Macaroon Cake\\n28 Ratings\\nEaster Lamb Cake\\n61 Ratings\\n9 Desserts That Are Straight Out of a Winter Wonderland\\nWalnut Pumpkin Roll\\n454 Ratings\\nPastel de Tres Leches (Three Milk Cake)\\n117 Ratings\\nPassover Sponge Cake\\n17 Ratings\\nBuche de Noel (Yule Log)\\n15 Ratings\\nAllrecipes\\nNEWSLETTER\\nFollow Us\\nFacebook\\nInstagram\\nPinterest\\nTikTok\\nYouTube\\nTwitter\\nFlipboard\\nDINNERS\\nMEALS\\nINGREDIENTS\\nOCCASIONS\\nCUISINES\\nKITCHEN TIPS\\nNEWS\\nFEATURES\\nAbout Us\\nContent Licensing\\nEditorial Process\\nAnti-Racism Pledge\\nPrivacy Policy\\nProduct Vetting\\nTerms of Use\\nAdvertise\\nCareers\\nContact\\nAllrecipes is part of the Dotdash Meredith publishing family.',\n",
       " \"Allrecipes\\nLog In\\nMagazine\\nNewsletter\\nSweepstakes\\nDINNERS\\nMEALS\\nINGREDIENTS\\nOCCASIONS\\nCUISINES\\nKITCHEN TIPS\\nNEWS\\nFEATURES\\nABOUT US\\nGET THE MAGAZINE\\nRECIPES\\nSIDE DISH\\nSAUCES AND CONDIMENTS\\nSAUCES\\nChef John's Crème Fraîche\\n4.9\\n(232)\\n187 REVIEWS\\n18 PHOTOS\\nCrème fraîche is very easy to make. Once you taste the magic of this homemade sour cream, you'll have a hard time not repeating this esoteric exercise. Sure it takes a couple of days, but the effort is minimal, and the payoff is marvelous.\\nRecipe by Chef John Updated on May 24, 2022\\nSave\\nRate\\nPrint\\nShare\\nAdd Photo\\n18\\nPrep Time:\\n5 mins\\nAdditional Time:\\n2 days\\nTotal Time:\\n2 days 5 mins\\nServings:\\n32\\nYield:\\n1 pint\\nJump to Nutrition Facts\\nIngredients\\n2 cups heavy cream\\n3 tablespoons cultured buttermilk\\nDirections\\nCombine cream and buttermilk in a glass jar. Cover tightly with cheesecloth (or any breathable material) and let sit at room temperature (70 to 75 degrees F (21 to 24 degrees C)) until thickened, about 24 hours.\\nStir mixture, then screw on the lid. Refrigerate for 24 hours before using.\\nCHEF JOHN\\nChef's Notes:\\nBe sure to use the best, freshest cream you can find. Look for pasteurized, not ultra-pasteurized heavy whipping cream.\\nMake sure to use cultured buttermilk. Otherwise, you will wait a whole day to see nothing happen.\\nI MADE IT\\nPRINT\\nNutrition Facts (per serving)\\n52 Calories\\n6g Fat\\n1g Carbs\\n0g Protein\\nShow Full Nutrition Label\\nReviews (187)\\nCheck out our Community Guidelines about reviews.\\nWhat do you think of this recipe? Share your experience to help others.\\nADD RATING & REVIEW\\n4.9 out of 5\\n232 Ratings\\n1\\n2\\n2\\n2\\n3\\n1\\n4\\n13\\n5\\n214\\nMost helpful positive review\\nMarianne\\n07/01/2012\\nThis is a marvelous recipe! I could put it on almost any food in my fridge! I found the correct cream at Trader Joe's, an organic one, and my buttermilk was by Knudsen. I was just going to make a half a batch but went for the whole thing. Am I ever glad! This is better than sour cream! Creme Fraiche doesn't have the same holding power of sour cream as far as consistency goes, and it's not quite as sour. But delicious it is! I highly recommend that you try this! Thank you, Chef John!\\nRead More\\nHelpful (102)\\nMost helpful critical review\\n1cinderbox2\\n03/28/2018\\nmade twice, would not thicken. I used Bavarian Buttermilk which has 9gms of fat. Thought this buttermilk would do a better job. Would not thicken, very runny. Thought it would be easy. Followed directions, sterilized, still no results. Perhaps because I am not a Chef, it did not turn out.\\nHelpful (5)\\nSort By:\\nNewest\\nDal\\n01/15/2023\\nI had been hearing about “Crème Fraîche” for years, and like many, just skipping right on by and using whipped cream, whipping cream, sour cream, etc.. A few years ago I made this very recipe, mostly out of curiosity… sort-of a personal funny, ha-ha science project.\\nWOW, was I delightfully surprised. My refrigerator has not been without Crème Fraîche ever since. It is so far and away so much better than any of its cousins; I love it. And it loves me.\\nRead More\\nHelpful (1)\\nLVTurner\\n01/04/2023\\nI used dried Buttermilk and the culture became active when mixed with water, worked perfectly. I guess it acted like dried yeast for baking. Thanks again John...\\nHelpful (1)\\nAllrecipes Member\\n11/21/2022\\nI filtered the mix through a coffee filter in a funnel over a jar. That way I can control the viscosity from very thin to very thick. Same great taste.\\nHelpful (1)\\nAllrecipes Member\\n06/24/2022\\nI was trying to make cultured butter and made this on accident. I was searching the web to find out what the heck I made.\\nHelpful (1)\\nYvonne Young\\n05/31/2022\\nLove this recipe, tastes better than store bought and use it on everything.\\nHelpful (1)\\nDonna Pearson Hunter\\n05/25/2022\\nWonderful recipe!! These days very difficult to find whipping cream that’s not ultra pasteurized so I had to use that. I did warm the cream and buttermilk up to room temperature and kept it in a warm space. It thickened up beautifully. Delicious!!! Thank you Chef John.\\nHelpful (0)\\nAllrecipes Member\\n04/07/2022\\nI made this and it turned out perfect. I put it on homemade carrot cake. Everyone was asking for the recipe. Said it tasted like cheesecake on top of the carrot cake.\\nHelpful (0)\\npatriciaburke79\\n03/06/2022\\nIt's really good. I only had ultra pasteurized cream, so thought why not try. It seemed to work. I have just stirred it and put into refrigerator. Licked the spoon after, delicious.\\nHelpful (1)\\nChristina Lopez Robison\\n01/14/2022\\nSuper easy! I am so pleased with this recipe I used ultra pasteurized organic heavy whipping cream and it worked just fine. I had some old buttermilk I had been ‘growing’ by adding whole milk to it. Was interested to see if it would still work and it did. Thank you again, Chef John!\\nHelpful (1)\\nLOAD MORE REVIEWS\\nYou’ll Also Love\\nCrème Fraîche Chicken\\n76 Ratings\\nChef John's Sourdough Bread\\n130 Ratings\\nChef John's Chimichurri Sauce\\n212 Ratings\\nChef John's Béarnaise Sauce\\n10 Ratings\\nChef John's Beurre Blanc\\n43 Ratings\\nChef John's Homemade Ricotta Cheese\\n24 Ratings\\nChef John's Chocolate Soufflé\\n104 Ratings\\nChef John's Best Thanksgiving Dessert Recipes\\nChef John's Thai-Style Sweet Chili Sauce\\n21 Ratings\\nChef John's Easy One-Bowl Hollandaise Sauce\\n77 Ratings\\nChef John's Buttermilk Biscuits\\n1,493 Ratings\\nChef John's Cheater Demi-Glace\\n6 Ratings\\nChef John's Remoulade Sauce\\n30 Ratings\\nChef John's Baklava\\n33 Ratings\\nChef John's Kumquat Marmalade\\n43 Ratings\\nChef John's Porchetta\\n33 Ratings\\nAllrecipes\\nNEWSLETTER\\nFollow Us\\nFacebook\\nInstagram\\nPinterest\\nTikTok\\nYouTube\\nTwitter\\nFlipboard\\nDINNERS\\nMEALS\\nINGREDIENTS\\nOCCASIONS\\nCUISINES\\nKITCHEN TIPS\\nNEWS\\nFEATURES\\nAbout Us\\nContent Licensing\\nEditorial Process\\nAnti-Racism Pledge\\nPrivacy Policy\\nProduct Vetting\\nTerms of Use\\nAdvertise\\nCareers\\nContact\\nAllrecipes is part of the Dotdash Meredith publishing family.\",\n",
       " 'Allrecipes\\nLog In\\nMagazine\\nNewsletter\\nSweepstakes\\nDINNERS\\nMEALS\\nINGREDIENTS\\nOCCASIONS\\nCUISINES\\nKITCHEN TIPS\\nNEWS\\nFEATURES\\nABOUT US\\nGET THE MAGAZINE\\nSIDE DISH\\nSAUCES AND CONDIMENTS\\nSALAD DRESSING RECIPES\\nVINAIGRETTE DRESSING RECIPES\\nThe Best Lemon Vinaigrette\\n4.7\\n(217)\\n175 REVIEWS\\n18 PHOTOS\\nThis lemon vinaigrette is one of my favorite salad dressings. It works for a simple salad or with crispy Parmesan chicken on a green salad.\\nRecipe by lukeder101 Updated on February 6, 2023\\nSave\\nRate\\nPrint\\nShare\\nAdd Photo\\n18\\nPrep Time:\\n10 mins\\nTotal Time:\\n10 mins\\nServings:\\n8\\nYield:\\n1 cup\\nJump to Nutrition Facts\\nIngredients\\n¼ cup red wine vinegar\\n2 tablespoons Dijon mustard, or to taste\\n1 clove garlic, minced\\n1 teaspoon dried oregano\\n½ teaspoon kosher salt\\n¼ teaspoon ground black pepper\\n½ cup olive oil\\n2 tablespoons fresh lemon juice\\nDirections\\nWhisk red wine vinegar, Dijon mustard, garlic, oregano, salt, and pepper together in a small bowl. Slowly stream olive oil into vinegar mixture, whisking continuously, until well combined. Add lemon juice and whisk to combine.\\nPour vinaigrette into a screw-top jar or bottle; seal. Shake before serving.\\nI MADE IT\\nPRINT\\nNutrition Facts (per serving)\\n128 Calories\\n14g Fat\\n2g Carbs\\n0g Protein\\nShow Full Nutrition Label\\nReviews (175)\\nCheck out our Community Guidelines about reviews.\\nWhat do you think of this recipe? Share your experience to help others.\\nADD RATING & REVIEW\\n4.7 out of 5\\n217 Ratings\\n1\\n1\\n2\\n2\\n3\\n7\\n4\\n44\\n5\\n163\\nMost helpful positive review\\nMarianne\\n03/08/2014\\nI made half a batch of this (I was almost out of red wine vinegar), but otherwise I followed the recipe as written. I really liked this, but of course I would because it had lemon in it! If this is too lemony or acidic for you, you could easily add a teaspoon of honey or sugar to it. I think this would be a good spread on a sandwich as well as on a salad. So for me, this was thumbs up! Thanks, lukeder101!\\nRead More\\nHelpful (53)\\nMost helpful critical review\\nJanie\\n05/30/2015\\nThis is super tart. i just made it to dress lettuce fresh from the garden, so I don\\'t have a whole bunch of ingredients in my salad. I ended up adding an unknown quantity of honey to it, which I noted another poster did as well. As I was adding the dijon, my spidey senses were telling me not to use s o much, so next time I think I will try less mustard\\nRead More\\nHelpful (19)\\nSort By:\\nNewest\\nPaulie Paisan\\n11/28/2022\\nThe vinaigrette came out pretty good. I added a little extra lemon juice, oregano, salt and pepper to the recipe though. I felt it just needed slightly more seasoning. I also was forced to use a strange Dijon from Trader Joe\\'s that was very grainy like an unfiltered mustard or something. It came out pretty good, but I think it would be better with a normal Dijon. I\\'m also wondering why the recipe doesn\\'t call for \"WHITE Wine Vinegar\" vs. \"RED Wine Vinegar\", seems kinda weird, but again it was pretty good. I think I will try WHITE wine vinegar next time instead though.\\nRead More\\nHelpful (0)\\nAllrecipes Member\\n07/22/2022\\nSimple and delicious. I use a small clove of garlic so as not to be too strong.\\nHelpful (0)\\nPatricia Anne Peel\\n07/16/2022\\nWe liked it. Left out the oregano because I forgot it even though I have a potful of it outside. I added a bit more lemon juice & some Stevia because I wanted some sweetness to offset the acidic vinegar & lemon juice.\\nHelpful (0)\\nJanice Ryan\\n11/11/2021\\ncalls for too much vinegar\\nHelpful (0)\\nLori Riley\\n07/15/2021\\nthey loved it\\nHelpful (0)\\nSLSinVA\\n05/26/2021\\nThis is now my go-to salad dressing.\\nHelpful (0)\\nMAUREEN21\\n03/11/2021\\nTurned out great! Used it on my couscous salad.\\nHelpful (0)\\nKammie Blamey\\n02/11/2021\\nVery tart, it burned my throat a bit. The mustard was quite overpowering. I do think, as written, it would be a good marinade for chicken. As a salad dressing I recommend adding some honey to taper the sourness. I remade it using garlic infused oil, and that added some depth.\\nHelpful (0)\\nCindy W\\n12/08/2020\\nThis was a very quick and easy vinaigrette. I only added about a tsp of stevia to cut the tartness that I experienced. We made it for an arugula salad.\\nHelpful (0)\\nLOAD MORE REVIEWS\\nYou’ll Also Love\\nNo-Salt Vinaigrette\\n47 Ratings\\nMama\\'s Balsamic Vinaigrette\\n182 Ratings\\nRed Wine Vinaigrette\\n4 Ratings\\nCucumber Tomato Salad with Zucchini and Black Olives in Lemon Balsamic Vinaigrette\\n61 Ratings\\nHoney Dijon Balsamic Vinaigrette\\n181 Ratings\\nCreamy Vinaigrette\\n59 Ratings\\nCold Green Bean Salad with Lemon Vinaigrette\\n1 Rating\\nSpiced Balsamic Vinaigrette\\n36 Ratings\\nPear Vinaigrette\\n58 Ratings\\nQuinoa Veggie Salad with Zesty Vinaigrette\\n104 Ratings\\nEasy Lemon Vinaigrette\\n1 Rating\\nMeyer Lemon Vinaigrette\\n6 Ratings\\nCranberry Balsamic Vinaigrette\\n14 Ratings\\nCranberry-Almond Vinaigrette\\n8 Ratings\\nHomemade Red Wine Vinaigrette\\n1 Rating\\nTropical Salad with Pineapple Vinaigrette\\n245 Ratings\\nAllrecipes\\nNEWSLETTER\\nFollow Us\\nFacebook\\nInstagram\\nPinterest\\nTikTok\\nYouTube\\nTwitter\\nFlipboard\\nDINNERS\\nMEALS\\nINGREDIENTS\\nOCCASIONS\\nCUISINES\\nKITCHEN TIPS\\nNEWS\\nFEATURES\\nAbout Us\\nContent Licensing\\nEditorial Process\\nAnti-Racism Pledge\\nPrivacy Policy\\nProduct Vetting\\nTerms of Use\\nAdvertise\\nCareers\\nContact\\nAllrecipes is part of the Dotdash Meredith publishing family.',\n",
       " \"Allrecipes\\nLog In\\nMagazine\\nNewsletter\\nSweepstakes\\nDINNERS\\nMEALS\\nINGREDIENTS\\nOCCASIONS\\nCUISINES\\nKITCHEN TIPS\\nNEWS\\nFEATURES\\nABOUT US\\nGET THE MAGAZINE\\nRECIPES\\nINGREDIENTS\\nHERBS AND SPICES RECIPES\\nSEASONING MIX RECIPES\\nHerbs de Provence\\n4.8\\n(59)\\n44 REVIEWS\\n7 PHOTOS\\nThis herbs de Provence recipe was developed after looking at many different recipes. It's my version of the classic dried herb seasoning that tastes great in salads and on fish, chicken, beef, or pork. The fragrance is amazing!\\nRecipe by Mariposa Updated on May 31, 2022\\nSave\\nRate\\nPrint\\nShare\\nAdd Photo\\n7\\nPrep Time:\\n5 mins\\nTotal Time:\\n5 mins\\nServings:\\n48\\nYield:\\n1 cup\\nJump to Nutrition Facts\\nIngredients\\n2 tablespoons dried rosemary\\n1 tablespoon fennel seed\\n2 tablespoons dried savory\\n2 tablespoons dried thyme\\n2 tablespoons dried basil\\n2 tablespoons dried marjoram\\n2 tablespoons dried lavender flowers\\n2 tablespoons dried Italian parsley\\n1 tablespoon dried oregano\\n1 tablespoon dried tarragon\\n1 teaspoon bay powder\\nDirections\\nGrind rosemary and fennel seed in a spice grinder; transfer to a mixing bowl.\\nAdd savory, thyme, basil, marjoram, lavender, parsley, oregano, tarragon, and bay powder to the bowl; stir well. Store in an airtight container between uses.\\nI MADE IT\\nPRINT\\nNutrition Facts (per serving)\\n4 Calories\\n0g Fat\\n1g Carbs\\n0g Protein\\nShow Full Nutrition Label\\nReviews (44)\\nCheck out our Community Guidelines about reviews.\\nWhat do you think of this recipe? Share your experience to help others.\\nADD RATING & REVIEW\\n4.8 out of 5\\n59 Ratings\\n1\\n0\\n2\\n1\\n3\\n0\\n4\\n9\\n5\\n49\\nMost helpful positive review\\nMariposa\\n07/11/2012\\nI am the creator of this recipe. 2 tablespoons dried does not make 2 tablespoons ground. Here is a change that was not posted....I ground the rosemary to make 2 tablespoons ground. Try doubling or tripling the rosemary to get 2 tablespoons. Enjoy!\\nHelpful (131)\\nSort By:\\nNewest\\nKimmy\\n12/01/2022\\nMy soup recipe called for this and it tasted delish! 😋\\nHelpful (1)\\nAllrecipes Member\\n07/16/2022\\nI was looking for herb de provence recipe and mine was out and I didn't have any. So I made it except I didn't have savory and lavender but it turned for my Spaghetti meat sauce fantastic.\\nHelpful (0)\\nAllrecipes Member\\n03/23/2022\\nI did not add the bay powder.\\nHelpful (1)\\nGregory LaFrance\\n02/21/2022\\nWhy buy store bought? I had almost all except the flower and was very good.\\nHelpful (0)\\nCandi B\\n11/06/2020\\nGreat blend! Very similar, and better than, the tiny jar someone brought back from a trip to France. I didn't have marjoram so I added extra savory. I left out the lavender after reading the post that said it is never used in France. I ground the fennel, rosemary, and bay leaves in my VitaMix and then combined everything else. I'll definitely make this again!\\nHelpful (0)\\nkim\\n03/26/2020\\nI do not like Fennel seeds, so I left them out. I also did not use dried rosemary. I look forward to using this blend in a recipe soon.\\nHelpful (0)\\nEvelyn King\\n01/15/2020\\nIt makes a lot! FYI we live by a lavender farm. I understand that there are two types of lavender, English for cooking and French for the scent\\nHelpful (0)\\nSusan Mayo Cooksey\\n12/11/2019\\nDelicious!!\\nHelpful (0)\\nJane\\n09/05/2019\\nEasy to make. Adds great flavor to meats - esp. roast chicken. I mix it with butter, & then put the mixture under the skin of the chicken. Then roast as usual.\\nHelpful (0)\\nLOAD MORE REVIEWS\\nYou’ll Also Love\\nRoasted White Asparagus with Herbes de Provence\\n9 Ratings\\nThese 16 Recipes with Herbes de Provence Are the Flavor of Southern France\\nStacey's Hamburger Seasoning\\n316 Ratings\\nFajita Seasoning\\n1,134 Ratings\\nGiada De Laurentiis' One-Pot Tomato Soup Risotto Is Our New Favorite Comfort Food\\nMussels Provencal\\n24 Ratings\\nShrimp Provencal\\n36 Ratings\\nPoulet de Provencal\\n80 Ratings\\nDeep Fried Turkey Rub\\n62 Ratings\\nSteak Dry Rub Seasoning\\n168 Ratings\\nMisti's Dried Herb Salad Seasoning\\n9 Ratings\\nTaco Seasoning\\n7,975 Ratings\\nItalian Seasoning\\n92 Ratings\\nPoultry Seasoning\\n45 Ratings\\nEasy Herb-Roasted Turkey\\n662 Ratings\\nHerbed Pork Chops with Homemade Rub\\n14 Ratings\\nAllrecipes\\nNEWSLETTER\\nFollow Us\\nFacebook\\nInstagram\\nPinterest\\nTikTok\\nYouTube\\nTwitter\\nFlipboard\\nDINNERS\\nMEALS\\nINGREDIENTS\\nOCCASIONS\\nCUISINES\\nKITCHEN TIPS\\nNEWS\\nFEATURES\\nAbout Us\\nContent Licensing\\nEditorial Process\\nAnti-Racism Pledge\\nPrivacy Policy\\nProduct Vetting\\nTerms of Use\\nAdvertise\\nCareers\\nContact\\nAllrecipes is part of the Dotdash Meredith publishing family.\",\n",
       " 'Allrecipes\\nLog In\\nMagazine\\nNewsletter\\nSweepstakes\\nDINNERS\\nMEALS\\nINGREDIENTS\\nOCCASIONS\\nCUISINES\\nKITCHEN TIPS\\nNEWS\\nFEATURES\\nABOUT US\\nGET THE MAGAZINE\\nRECIPES\\nCUISINE\\nEUROPEAN\\nFRENCH\\nChocolate Yule Log\\n4.7\\n(116)\\n101 REVIEWS\\n56 PHOTOS\\nIf you haven\\'t tried this Yule log recipe because you thought it required advanced baking and pastry skill, then get ready to buche up this Noel, since the techniques required are actually quite simple. This classic holiday dessert is a showstopper, but it\\'s often better looking than it is tasting, which is not the case here, thanks to a simple-to-make, rich chocolate sponge cake, and mocha buttercream filling. Garnished here with meringue mushrooms and rosemary.\\nRecipe by Chef John Updated on September 30, 2022\\nSave\\nRate\\nPrint\\nShare\\nAdd Photo\\n56\\nPrep Time:\\n50 mins\\nCook Time:\\n10 mins\\nAdditional Time:\\n2 hrs 15 mins\\nTotal Time:\\n3 hrs 15 mins\\nServings:\\n10\\nYield:\\n1 13-inch yule log\\nJump to Nutrition Facts\\nJUMP TO RECIPE\\nThe traditional Christmas Yule log might look intimidating, but it\\'s actually quite simple to make when you break it down step-by-step. This Yule log recipe will quickly become a holiday staple in your household.\\nWhat Is a Yule Log?\\nA Yule log cake, a.k.a. a bûche de Noël, is a traditional holiday dessert that is meant to resemble an actual log. A sponge cake is baked in a Swiss roll pan, filled, rolled into a cylinder, then frosted again.\\nThe yule log tradition goes back centuries: Yule or Yuletide is a winter festival that was historically celebrated by people in Northern Europe. During the festival, a special log burnt on a hearth. Nobody quite knows where this custom comes from, but it\\'s likely the inspiration behind the festive cake.\\nOANA ENNIS/ALLRECIPES\\nHow to Make a Yule Log\\nThis basic Yule log starts with a classic roulade. You\\'ll find the full, step-by step recipe below — but here\\'s a brief overview of what you can expect when you make this Yule log:\\n1. Make the filling.\\n2. Make the cake batter and pour it into a prepared pan.\\n3. Bake until the edges start to pull away.\\n4. Turn the cake out on a kitchen towel, roll, and let cool.\\n5. Unroll the cooled cake and spread the filling on top.\\n6. Re-roll it, then sprinkle it with more powdered sugar. Refrigerate until firm.\\nHow to Frost a Yule Log\\nWhen the Yule log is filled and rolled, it\\'s time to frost! To make the ganache frosting, simply whisk the chocolate chips and hot cream until smooth. Cut the ends off the log, then spread a layer of ganache all over the cake. Use a fork or knife to make ridges in the frosting. Continue until the log resembles tree bark.\\nYule Log Decorations\\nYou can keep your Yule log simple or take it up a notch with whimsical decorations (check out our top-rated fondant recipe to make your own edible decor). Here are some gorgeous ideas from talented members of the Allrecipes community:\\nMAGGIEJ\\nYAN\\nCHEF JOHN\\nHow to Store a Yule Log\\nCover the frosted Yule log loosely in storage wrap and store it in the fridge for up to three days or freeze it for up to three months (thaw in the fridge overnight).\\nAllrecipes Community Tips and Praise\\n\"I made a Yule log for the first time last Christmas using this recipe, and it turned out so fantastic,\" raves Nicki Bortz. \"It will definitely be a Christmas tradition. The chocolate filling and coffee liquor are what originally sold me, and it did not disappoint!\"\\n\"Made this for Christmas and my husband loved it so much he wants this for his birthday,\" says Lynette. \"The buttercream and ganache were perfect. Not too sweet. The addition of the mascarpone and Kahlua puts it over the top!\"\\n\"The amount of filling was perfect for me,\" according to Linda. \"I was pleasantly surprised that it did not stick like many others I\\'ve made. I did a display without mushrooms using cranberries greenery. On the outside of my plate I put little twigs.\"\\nEditorial contributions by Corey Williams\\nIngredients\\nButtercream Filling:\\n1 ⅔ cups powdered sugar\\n½ cup unsalted butter, at room temperature\\n2 tablespoons coffee-flavored liqueur\\n1 ½ tablespoons unsweetened cocoa powder\\n1 pinch salt\\n⅓ cup mascarpone cheese\\nSponge Cake:\\n2 tablespoons melted butter\\n½ cup unsweetened cocoa powder\\n2 tablespoons all-purpose flour\\n½ teaspoon kosher salt\\n5 large eggs, at room temperature\\n⅔ cup white sugar\\n½ teaspoon vanilla\\n2 tablespoons powdered sugar, or as needed\\nGanache Frosting:\\n1 cup heavy cream, boiling-hot\\n1 (8 ounce) package dark chocolate chips\\nDirections\\nMake the buttercream filling: Whip powdered sugar, butter, coffee-flavored liqueur, cocoa powder, salt together in the bowl of a stand mixer fitted with the whisk attachment on high speed.\\nTransfer filling mixture to a separate bowl and add mascarpone cheese. Mix until combined; set aside. Clean and dry the stand mixer bowl.\\nPreheat the oven to 400 degrees F (200 degrees C).\\nPrepare a 13x18-inch rimmed sheet pan for the sponge cake: Brush a little melted butter over the sheet pan, then line the pan with parchment paper, and brush remaining melted butter on top.\\nWhisk cocoa powder, flour, and salt together in a bowl, making sure to break up any clumps.\\nPlace eggs in the clean bowl of your stand mixer. Add sugar and whip with the whisk attachment until fluffy, thick, and very light in color, 2 to 3 minutes. Add vanilla and 1/2 of the cocoa powder mixture; mix on low speed for a few seconds. Add the remaining cocoa mixture and mix on low for a few seconds. Switch to high speed and mix until the mixture is moistened but not fully blended. Pull off the whisk attachment and use it to whisk the batter by hand until evenly blended.\\nPour batter onto the prepared sheet pan and spread out with a spatula, almost to the edges, but not quite. Tap the pan on the counter several times to remove any large air bubbles.\\nBake in the preheated oven until the top is dry and the edges start to pull away from the sides, 8 to 10 minutes.\\nWhile the cake is baking, sift powdered sugar onto a clean kitchen towel to cover an area slightly larger than the sponge cake.\\nRemove cake from the oven. Run a knife around the edges of the pan. Dust some powdered sugar over the top. Run a spatula under the parchment paper to make sure it\\'s not stuck to the pan.\\nQuickly flip the pan on top of the sugared area on the towel to invert the cake. Carefully remove the parchment paper, then sift more powdered sugar over the cake. Gently roll the cake up inside the towel; allow to cool for 15 minutes.\\nCarefully unroll the cooled cake. Dollop as much buttercream filling as you like on top, reserving some for later; spread to the edges. Roll cake up over the filling, using the towel to lift it if needed. Sprinkle more powdered sugar on top over the log, then wrap in plastic wrap. Refrigerate until firm, about 2 hours.\\nMake the ganache frosting: Pour hot cream over chocolate chips in a bowl. Let sit for 1 minute, then whisk until chocolate is melted.\\nMake an angled cut 3 inches from one end of the log. Place log on a parchment-lined sheet pan. Apply some filling to the angled slice and attach it to one side of the log. Spread a layer of ganache all over the cake, except for the swirls on the ends. Refrigerate for 15 minutes to firm up the ganache.\\nUse the tip of a knife to carve lines into the ganache to create the appearance of tree bark. Refrigerate until completely chilled.\\nDust with cocoa powder and powdered sugar before serving.\\nCHEF JOHN\\nChef\\'s Notes:\\nI used all of the buttercream filling and thought it was a bit too much. In the future, I\\'d probably use 2/3 of the filling for this recipe, and save the rest for cupcakes.\\nIf you have a favorite frosting or filling, it will work here. As long as you can slice it later, pretty much anything goes. You can also add a splash of milk to achieve a lighter, fluffier buttercream.\\nYou can also drizzle the baked sponge with many delicious, possibly adult beverages, such as dark rum, kirsch, or raspberry liqueur, just to name a few.\\nI MADE IT\\nPRINT\\nNutrition Facts (per serving)\\n526 Calories\\n34g Fat\\n56g Carbs\\n6g Protein\\nShow Full Nutrition Label\\nReviews (101)\\nCheck out our Community Guidelines about reviews.\\nWhat do you think of this recipe? Share your experience to help others.\\nADD RATING & REVIEW\\n4.7 out of 5\\n116 Ratings\\n1\\n2\\n2\\n1\\n3\\n1\\n4\\n20\\n5\\n92\\nMost helpful positive review\\nJulia Dilley\\n12/26/2018\\nsubstituted 1 pkg cream cheese + 1/3 cup sour cream for mascarpone, and added 1 tsp vanilla for filling.\\nHelpful (12)\\nSort By:\\nNewest\\nleonora\\n01/07/2023\\nThe cake is easy to work with and roll when you follow the directions on the video, which is a big help. the filling is not overly sweet, and is perfect. I added a teaspoon of coffee to the mixture for a mocha flavor. The ganache was delicious, just make it cool enough and whip it enough to spreading consistency. I will be making this next Christmas!\\nHelpful (0)\\nm42017\\n12/30/2022\\nLoved it - it’s a commitment with all the steps but so worth it! I too added marscapone to the whipped cream to stabilize.\\nHelpful (0)\\nkarenmalone2018\\n12/29/2022\\nThis recipe was a big hit!\\nI added raspberry filling.\\nGet ready for lots of oooohs and ahhhhs - SO festive and delish!!\\nHelpful (0)\\nhope\\n12/27/2022\\nAbsolutely awesome!!! Rave reviews from everyone I just embellished with home made meringue mushrooms and sugared rosemary & cranberries\\nHelpful (0)\\nHayeskid\\n12/26/2022\\nThe video by Chef John was fantastic and helped immensely in making this! The log came out beautiful but dry. I could have over baked it as this was my first time making sponge cake. I actually used a piping bag for the ganache and was very happy with the results although for some that may be too heavy in the frosting. The mocha buttercream was AMAZING!! Thank you for the great video to help with this recipe!\\nHelpful (0)\\nBecca Owens\\n12/26/2022\\nThis is a rich and decadent treat, with a buttercream to die for. I added some chocolate bark and meringue mushrooms and my family were all in awe. It was probably my greatest culinary achievement. :)\\nHelpful (0)\\nKathi Metzger\\n12/26/2022\\nI loved this recipe 🥰🥰🥰. The instructions were very good. It was really helpful to have the video resource while I was preparing the log. Highly recommend. My only hiccup was the ganache. It was a bit too liquidy after setting on the countertop all night. Added more chocolate but then ended up too thick. Still used it but making the \"bark\" with the knife was hard. I have never made ganache so I chalked that up to being a beginner. Using plenty of powered sugar is definitely a good idea. The only changes I made were 1) using frangelica instead of kahlua, which was delicious, and 2) using espresso mascarpone bc that\\'s what the grocery store had. It is mild flavored so no problem. Used mistletoe to decorate but might try meringue mushrooms next time. It\\'s a little time consuming but if you want to up your baking skills, I would recommend this recipe.\\nRead More\\nHelpful (0)\\nchristy1010\\n12/26/2022\\nThe frosting was delicious but there was barely enough to cover the cake with only a very thin layer. I don\\'t even understand how the chef\\'s note says it was too much frosting and that they would only use 2/3 of it. Needs at least 1.5 X\\'s if not double. My cake also turned out a tiny bit dry and cracked in a few places after the frosting was on and I had to roll it back up. Not sure what I did wrong there. I did watch the video and set an alarm for exactly 15 minutes to unroll, frost, and roll it back up. Despite these couple of small problems, the end result turned out very tasty and beautiful. I appreciated the video, it was extremely helpful. You have to let the ganache cool quite a bit before using if you don\\'t want it to drip. Once it\\'s chilled a bit and thicker it\\'s perfect for spreading. I was able to work with it after about 20-30 minutes in the fridge.\\nRead More\\nHelpful (0)\\nAllrecipes Member\\n12/26/2022\\nThis recipe was the worst! I wasted the sponge ingredients…came out like a pancake. Greasy parchment paper. Just awful!\\nHelpful (0)\\nLOAD MORE REVIEWS\\nYou’ll Also Love\\nChocolate Decadence Yule Log\\n80 Ratings\\nYule Log Cake\\nBuche de Noel\\n428 Ratings\\nS\\'mores Cake\\n7 Impressive Yule Log Recipes for Christmas\\nClassic Yule Log\\n11 Ratings\\nPumpkin Roll\\n446 Ratings\\nNutella Chocolate Cake\\nChocolate Ganache\\n1,169 Ratings\\nRainbow Sheet Cake\\nChef John\\'s Hummingbird Cake\\n9 Ratings\\nThree-Layer Chocolate Cake with Irish Coffee Frosting\\n1 Rating\\nMoist Pumpkin Cake Roll\\nChocolate Shows Its Savory Side In 11 Delectable Dinner Recipes\\nGingerbread Cake Roll with Eggnog Whipped Cream\\n5 Easy Ways to Decorate Desserts With Chocolate\\nAllrecipes\\nNEWSLETTER\\nFollow Us\\nFacebook\\nInstagram\\nPinterest\\nTikTok\\nYouTube\\nTwitter\\nFlipboard\\nDINNERS\\nMEALS\\nINGREDIENTS\\nOCCASIONS\\nCUISINES\\nKITCHEN TIPS\\nNEWS\\nFEATURES\\nAbout Us\\nContent Licensing\\nEditorial Process\\nAnti-Racism Pledge\\nPrivacy Policy\\nProduct Vetting\\nTerms of Use\\nAdvertise\\nCareers\\nContact\\nAllrecipes is part of the Dotdash Meredith publishing family.']"
      ]
     },
     "execution_count": 39,
     "metadata": {},
     "output_type": "execute_result"
    }
   ],
   "source": [
    "Total_time"
   ]
  },
  {
   "cell_type": "code",
   "execution_count": 51,
   "id": "7030dbc0",
   "metadata": {},
   "outputs": [],
   "source": [
    "with open(\"Cuisine_Francaise.csv\", 'w', encoding=\"utf-8\") as file:\n",
    "    file.write(\"Nom; Description; Calories; Fat; Carbs; Protein\\n\")\n",
    "\n",
    "for i in range(24) :\n",
    "    with open(\"Cuisine_Francaise.csv\", 'a', encoding=\"utf-8\") as file:\n",
    "        file.write(names[i]+ \" , \"+Descriptions[i]+\", \"+Calories[i]+\", \"+Fat[i]+\", \"+Carbs[i]+\", \"+Protein[i]+\"\\n\")"
   ]
  },
  {
   "cell_type": "code",
   "execution_count": null,
   "id": "1212f357",
   "metadata": {},
   "outputs": [],
   "source": []
  }
 ],
 "metadata": {
  "kernelspec": {
   "display_name": "Python 3 (ipykernel)",
   "language": "python",
   "name": "python3"
  },
  "language_info": {
   "codemirror_mode": {
    "name": "ipython",
    "version": 3
   },
   "file_extension": ".py",
   "mimetype": "text/x-python",
   "name": "python",
   "nbconvert_exporter": "python",
   "pygments_lexer": "ipython3",
   "version": "3.9.7"
  }
 },
 "nbformat": 4,
 "nbformat_minor": 5
}
